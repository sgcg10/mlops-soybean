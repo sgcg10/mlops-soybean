{
  "cells": [
    {
      "cell_type": "markdown",
      "metadata": {
        "id": "FvaYNNqqDBpM"
      },
      "source": [
        "Import the needed Python libraries"
      ]
    },
    {
      "cell_type": "code",
      "execution_count": 1,
      "metadata": {
        "id": "GlTl0C2lSmPU"
      },
      "outputs": [],
      "source": [
        "import numpy as np\n",
        "import pandas as pd\n",
        "import plotly.express as px\n",
        "from sklearn.datasets import load_iris\n",
        "from sklearn.model_selection import train_test_split\n",
        "from sklearn.linear_model import LogisticRegression\n",
        "from sklearn.tree import DecisionTreeClassifier\n",
        "from sklearn.ensemble import RandomForestClassifier\n",
        "from sklearn.metrics import accuracy_score, classification_report"
      ]
    },
    {
      "cell_type": "markdown",
      "metadata": {
        "id": "K8gBcXrcDA_9"
      },
      "source": [
        "Read the data for soybean harvest to start doing the Exploratory Analysis"
      ]
    },
    {
      "cell_type": "code",
      "execution_count": 6,
      "metadata": {
        "id": "3GD5oc8FTGBE"
      },
      "outputs": [],
      "source": [
        "data = pd.read_csv(\"data.csv\")\n"
      ]
    },
    {
      "cell_type": "code",
      "execution_count": 3,
      "metadata": {
        "colab": {
          "base_uri": "https://localhost:8080/",
          "height": 363
        },
        "id": "XeT-9B8pslDp",
        "outputId": "26dcb923-9266-4f3a-d09c-a527d3d965a1"
      },
      "outputs": [
        {
          "data": {
            "text/html": [
              "<div>\n",
              "<style scoped>\n",
              "    .dataframe tbody tr th:only-of-type {\n",
              "        vertical-align: middle;\n",
              "    }\n",
              "\n",
              "    .dataframe tbody tr th {\n",
              "        vertical-align: top;\n",
              "    }\n",
              "\n",
              "    .dataframe thead th {\n",
              "        text-align: right;\n",
              "    }\n",
              "</style>\n",
              "<table border=\"1\" class=\"dataframe\">\n",
              "  <thead>\n",
              "    <tr style=\"text-align: right;\">\n",
              "      <th></th>\n",
              "      <th>Season</th>\n",
              "      <th>Cultivar</th>\n",
              "      <th>Repetition</th>\n",
              "      <th>PH</th>\n",
              "      <th>IFP</th>\n",
              "      <th>NLP</th>\n",
              "      <th>NGP</th>\n",
              "      <th>NGL</th>\n",
              "      <th>NS</th>\n",
              "      <th>MHG</th>\n",
              "      <th>GY</th>\n",
              "    </tr>\n",
              "  </thead>\n",
              "  <tbody>\n",
              "    <tr>\n",
              "      <th>0</th>\n",
              "      <td>1</td>\n",
              "      <td>NEO 760 CE</td>\n",
              "      <td>1</td>\n",
              "      <td>58.80</td>\n",
              "      <td>15.20</td>\n",
              "      <td>98.2</td>\n",
              "      <td>177.80</td>\n",
              "      <td>1.81</td>\n",
              "      <td>5.20</td>\n",
              "      <td>152.20</td>\n",
              "      <td>3232.82</td>\n",
              "    </tr>\n",
              "    <tr>\n",
              "      <th>1</th>\n",
              "      <td>1</td>\n",
              "      <td>NEO 760 CE</td>\n",
              "      <td>2</td>\n",
              "      <td>58.60</td>\n",
              "      <td>13.40</td>\n",
              "      <td>102.0</td>\n",
              "      <td>195.00</td>\n",
              "      <td>1.85</td>\n",
              "      <td>7.20</td>\n",
              "      <td>141.69</td>\n",
              "      <td>3517.36</td>\n",
              "    </tr>\n",
              "    <tr>\n",
              "      <th>2</th>\n",
              "      <td>1</td>\n",
              "      <td>NEO 760 CE</td>\n",
              "      <td>3</td>\n",
              "      <td>63.40</td>\n",
              "      <td>17.20</td>\n",
              "      <td>100.4</td>\n",
              "      <td>203.00</td>\n",
              "      <td>2.02</td>\n",
              "      <td>6.80</td>\n",
              "      <td>148.81</td>\n",
              "      <td>3391.46</td>\n",
              "    </tr>\n",
              "    <tr>\n",
              "      <th>3</th>\n",
              "      <td>1</td>\n",
              "      <td>NEO 760 CE</td>\n",
              "      <td>4</td>\n",
              "      <td>60.27</td>\n",
              "      <td>15.27</td>\n",
              "      <td>100.2</td>\n",
              "      <td>191.93</td>\n",
              "      <td>1.89</td>\n",
              "      <td>6.40</td>\n",
              "      <td>148.50</td>\n",
              "      <td>3312.58</td>\n",
              "    </tr>\n",
              "    <tr>\n",
              "      <th>4</th>\n",
              "      <td>1</td>\n",
              "      <td>MANU IPRO</td>\n",
              "      <td>1</td>\n",
              "      <td>81.20</td>\n",
              "      <td>18.00</td>\n",
              "      <td>98.8</td>\n",
              "      <td>173.00</td>\n",
              "      <td>1.75</td>\n",
              "      <td>7.40</td>\n",
              "      <td>145.59</td>\n",
              "      <td>3230.99</td>\n",
              "    </tr>\n",
              "    <tr>\n",
              "      <th>5</th>\n",
              "      <td>1</td>\n",
              "      <td>MANU IPRO</td>\n",
              "      <td>2</td>\n",
              "      <td>75.80</td>\n",
              "      <td>20.80</td>\n",
              "      <td>69.2</td>\n",
              "      <td>128.00</td>\n",
              "      <td>1.85</td>\n",
              "      <td>7.20</td>\n",
              "      <td>154.87</td>\n",
              "      <td>3374.80</td>\n",
              "    </tr>\n",
              "    <tr>\n",
              "      <th>6</th>\n",
              "      <td>1</td>\n",
              "      <td>MANU IPRO</td>\n",
              "      <td>3</td>\n",
              "      <td>84.40</td>\n",
              "      <td>15.80</td>\n",
              "      <td>95.4</td>\n",
              "      <td>161.80</td>\n",
              "      <td>1.70</td>\n",
              "      <td>6.80</td>\n",
              "      <td>150.23</td>\n",
              "      <td>3182.76</td>\n",
              "    </tr>\n",
              "    <tr>\n",
              "      <th>7</th>\n",
              "      <td>1</td>\n",
              "      <td>MANU IPRO</td>\n",
              "      <td>4</td>\n",
              "      <td>80.47</td>\n",
              "      <td>18.20</td>\n",
              "      <td>87.8</td>\n",
              "      <td>154.27</td>\n",
              "      <td>1.77</td>\n",
              "      <td>7.13</td>\n",
              "      <td>149.90</td>\n",
              "      <td>3165.72</td>\n",
              "    </tr>\n",
              "    <tr>\n",
              "      <th>8</th>\n",
              "      <td>1</td>\n",
              "      <td>77HO111I2X - GUAPORÉ</td>\n",
              "      <td>1</td>\n",
              "      <td>52.20</td>\n",
              "      <td>14.40</td>\n",
              "      <td>64.8</td>\n",
              "      <td>148.80</td>\n",
              "      <td>2.30</td>\n",
              "      <td>7.20</td>\n",
              "      <td>180.25</td>\n",
              "      <td>3640.46</td>\n",
              "    </tr>\n",
              "    <tr>\n",
              "      <th>9</th>\n",
              "      <td>1</td>\n",
              "      <td>77HO111I2X - GUAPORÉ</td>\n",
              "      <td>2</td>\n",
              "      <td>55.80</td>\n",
              "      <td>15.80</td>\n",
              "      <td>72.0</td>\n",
              "      <td>188.80</td>\n",
              "      <td>2.62</td>\n",
              "      <td>6.20</td>\n",
              "      <td>176.75</td>\n",
              "      <td>3602.34</td>\n",
              "    </tr>\n",
              "  </tbody>\n",
              "</table>\n",
              "</div>"
            ],
            "text/plain": [
              "   Season              Cultivar  Repetition     PH    IFP    NLP     NGP  \\\n",
              "0       1            NEO 760 CE           1  58.80  15.20   98.2  177.80   \n",
              "1       1            NEO 760 CE           2  58.60  13.40  102.0  195.00   \n",
              "2       1            NEO 760 CE           3  63.40  17.20  100.4  203.00   \n",
              "3       1            NEO 760 CE           4  60.27  15.27  100.2  191.93   \n",
              "4       1             MANU IPRO           1  81.20  18.00   98.8  173.00   \n",
              "5       1             MANU IPRO           2  75.80  20.80   69.2  128.00   \n",
              "6       1             MANU IPRO           3  84.40  15.80   95.4  161.80   \n",
              "7       1             MANU IPRO           4  80.47  18.20   87.8  154.27   \n",
              "8       1  77HO111I2X - GUAPORÉ           1  52.20  14.40   64.8  148.80   \n",
              "9       1  77HO111I2X - GUAPORÉ           2  55.80  15.80   72.0  188.80   \n",
              "\n",
              "    NGL    NS     MHG       GY  \n",
              "0  1.81  5.20  152.20  3232.82  \n",
              "1  1.85  7.20  141.69  3517.36  \n",
              "2  2.02  6.80  148.81  3391.46  \n",
              "3  1.89  6.40  148.50  3312.58  \n",
              "4  1.75  7.40  145.59  3230.99  \n",
              "5  1.85  7.20  154.87  3374.80  \n",
              "6  1.70  6.80  150.23  3182.76  \n",
              "7  1.77  7.13  149.90  3165.72  \n",
              "8  2.30  7.20  180.25  3640.46  \n",
              "9  2.62  6.20  176.75  3602.34  "
            ]
          },
          "execution_count": 3,
          "metadata": {},
          "output_type": "execute_result"
        }
      ],
      "source": [
        "data.head(10)"
      ]
    },
    {
      "cell_type": "markdown",
      "metadata": {
        "id": "iBgw3KbRETEf"
      },
      "source": [
        "Check the correlation between the variables so we can proceed to answer a question"
      ]
    },
    {
      "cell_type": "markdown",
      "metadata": {
        "id": "vwJadxzJH2-9"
      },
      "source": [
        "In this case we have choosen 2 variables with a strong correlation:\n",
        "\n",
        "*   NLP. Number of Legumes per Plant\n",
        "*   NS. Number of steams"
      ]
    },
    {
      "cell_type": "code",
      "execution_count": 10,
      "metadata": {
        "colab": {
          "base_uri": "https://localhost:8080/",
          "height": 542
        },
        "id": "DkiEZkVzOhzO",
        "outputId": "f3b06d17-004a-446e-fb5c-7b0ccce9bb9c"
      },
      "outputs": [
        {
          "data": {
            "application/vnd.plotly.v1+json": {
              "config": {
                "plotlyServerURL": "https://plot.ly"
              },
              "data": [
                {
                  "customdata": [
                    [
                      "NEO 760 CE"
                    ],
                    [
                      "NEO 760 CE"
                    ],
                    [
                      "NEO 760 CE"
                    ],
                    [
                      "NEO 760 CE"
                    ],
                    [
                      "MANU IPRO"
                    ],
                    [
                      "MANU IPRO"
                    ],
                    [
                      "MANU IPRO"
                    ],
                    [
                      "MANU IPRO"
                    ],
                    [
                      "77HO111I2X - GUAPORÉ"
                    ],
                    [
                      "77HO111I2X - GUAPORÉ"
                    ],
                    [
                      "77HO111I2X - GUAPORÉ"
                    ],
                    [
                      "77HO111I2X - GUAPORÉ"
                    ],
                    [
                      "NK 7777 IPRO"
                    ],
                    [
                      "NK 7777 IPRO"
                    ],
                    [
                      "NK 7777 IPRO"
                    ],
                    [
                      "NK 7777 IPRO"
                    ],
                    [
                      "GNS7900 IPRO - AMPLA"
                    ],
                    [
                      "GNS7900 IPRO - AMPLA"
                    ],
                    [
                      "GNS7900 IPRO - AMPLA"
                    ],
                    [
                      "GNS7900 IPRO - AMPLA"
                    ],
                    [
                      "LTT 7901 IPRO"
                    ],
                    [
                      "LTT 7901 IPRO"
                    ],
                    [
                      "LTT 7901 IPRO"
                    ],
                    [
                      "LTT 7901 IPRO"
                    ],
                    [
                      "BRASMAX BÔNUS IPRO"
                    ],
                    [
                      "BRASMAX BÔNUS IPRO"
                    ],
                    [
                      "BRASMAX BÔNUS IPRO"
                    ],
                    [
                      "BRASMAX BÔNUS IPRO"
                    ],
                    [
                      "97Y97 IPRO"
                    ],
                    [
                      "97Y97 IPRO"
                    ],
                    [
                      "97Y97 IPRO"
                    ],
                    [
                      "97Y97 IPRO"
                    ],
                    [
                      "BRASMAX OLIMPO IPRO"
                    ],
                    [
                      "BRASMAX OLIMPO IPRO"
                    ],
                    [
                      "BRASMAX OLIMPO IPRO"
                    ],
                    [
                      "BRASMAX OLIMPO IPRO"
                    ],
                    [
                      "LYNDA IPRO"
                    ],
                    [
                      "LYNDA IPRO"
                    ],
                    [
                      "LYNDA IPRO"
                    ],
                    [
                      "LYNDA IPRO"
                    ],
                    [
                      "NK 8100 IPRO"
                    ],
                    [
                      "NK 8100 IPRO"
                    ],
                    [
                      "NK 8100 IPRO"
                    ],
                    [
                      "NK 8100 IPRO"
                    ],
                    [
                      "82HO111 IPRO - HO COXIM IPRO"
                    ],
                    [
                      "82HO111 IPRO - HO COXIM IPRO"
                    ],
                    [
                      "82HO111 IPRO - HO COXIM IPRO"
                    ],
                    [
                      "82HO111 IPRO - HO COXIM IPRO"
                    ],
                    [
                      "83IX84RSF I2X"
                    ],
                    [
                      "83IX84RSF I2X"
                    ],
                    [
                      "83IX84RSF I2X"
                    ],
                    [
                      "83IX84RSF I2X"
                    ],
                    [
                      "ADAPTA LTT 8402 IPRO"
                    ],
                    [
                      "ADAPTA LTT 8402 IPRO"
                    ],
                    [
                      "ADAPTA LTT 8402 IPRO"
                    ],
                    [
                      "ADAPTA LTT 8402 IPRO"
                    ],
                    [
                      "98R30 CE"
                    ],
                    [
                      "98R30 CE"
                    ],
                    [
                      "98R30 CE"
                    ],
                    [
                      "98R30 CE"
                    ],
                    [
                      "FORTALEZA IPRO"
                    ],
                    [
                      "FORTALEZA IPRO"
                    ],
                    [
                      "FORTALEZA IPRO"
                    ],
                    [
                      "FORTALEZA IPRO"
                    ],
                    [
                      "MONSOY 8330I2X"
                    ],
                    [
                      "MONSOY 8330I2X"
                    ],
                    [
                      "MONSOY 8330I2X"
                    ],
                    [
                      "MONSOY 8330I2X"
                    ],
                    [
                      "SUZY IPRO"
                    ],
                    [
                      "SUZY IPRO"
                    ],
                    [
                      "SUZY IPRO"
                    ],
                    [
                      "SUZY IPRO"
                    ],
                    [
                      "TMG 22X83I2X"
                    ],
                    [
                      "TMG 22X83I2X"
                    ],
                    [
                      "TMG 22X83I2X"
                    ],
                    [
                      "TMG 22X83I2X"
                    ],
                    [
                      "EXPANDE LTT 8301 IPRO"
                    ],
                    [
                      "EXPANDE LTT 8301 IPRO"
                    ],
                    [
                      "EXPANDE LTT 8301 IPRO"
                    ],
                    [
                      "EXPANDE LTT 8301 IPRO"
                    ],
                    [
                      "FORTALECE L090183 RR"
                    ],
                    [
                      "FORTALECE L090183 RR"
                    ],
                    [
                      "FORTALECE L090183 RR"
                    ],
                    [
                      "FORTALECE L090183 RR"
                    ],
                    [
                      "96R29 IPRO"
                    ],
                    [
                      "96R29 IPRO"
                    ],
                    [
                      "96R29 IPRO"
                    ],
                    [
                      "96R29 IPRO"
                    ],
                    [
                      "74K75RSF CE"
                    ],
                    [
                      "74K75RSF CE"
                    ],
                    [
                      "74K75RSF CE"
                    ],
                    [
                      "74K75RSF CE"
                    ],
                    [
                      "FTR 3868 IPRO"
                    ],
                    [
                      "FTR 3868 IPRO"
                    ],
                    [
                      "FTR 3868 IPRO"
                    ],
                    [
                      "FTR 3868 IPRO"
                    ],
                    [
                      "GNS7700 IPRO"
                    ],
                    [
                      "GNS7700 IPRO"
                    ],
                    [
                      "GNS7700 IPRO"
                    ],
                    [
                      "GNS7700 IPRO"
                    ],
                    [
                      "ELISA IPRO"
                    ],
                    [
                      "ELISA IPRO"
                    ],
                    [
                      "ELISA IPRO"
                    ],
                    [
                      "ELISA IPRO"
                    ],
                    [
                      "79I81RSF IPRO"
                    ],
                    [
                      "79I81RSF IPRO"
                    ],
                    [
                      "79I81RSF IPRO"
                    ],
                    [
                      "79I81RSF IPRO"
                    ],
                    [
                      "NEO 790 IPRO"
                    ],
                    [
                      "NEO 790 IPRO"
                    ],
                    [
                      "NEO 790 IPRO"
                    ],
                    [
                      "NEO 790 IPRO"
                    ],
                    [
                      "PAULA IPRO"
                    ],
                    [
                      "PAULA IPRO"
                    ],
                    [
                      "PAULA IPRO"
                    ],
                    [
                      "PAULA IPRO"
                    ],
                    [
                      "FTR 3179 IPRO"
                    ],
                    [
                      "FTR 3179 IPRO"
                    ],
                    [
                      "FTR 3179 IPRO"
                    ],
                    [
                      "FTR 3179 IPRO"
                    ],
                    [
                      "LAT 1330BT"
                    ],
                    [
                      "LAT 1330BT"
                    ],
                    [
                      "LAT 1330BT"
                    ],
                    [
                      "LAT 1330BT"
                    ],
                    [
                      "FTR 4280 IPRO"
                    ],
                    [
                      "FTR 4280 IPRO"
                    ],
                    [
                      "FTR 4280 IPRO"
                    ],
                    [
                      "FTR 4280 IPRO"
                    ],
                    [
                      "ATAQUE I2X"
                    ],
                    [
                      "ATAQUE I2X"
                    ],
                    [
                      "ATAQUE I2X"
                    ],
                    [
                      "ATAQUE I2X"
                    ],
                    [
                      "SYN2282IPRO"
                    ],
                    [
                      "SYN2282IPRO"
                    ],
                    [
                      "SYN2282IPRO"
                    ],
                    [
                      "SYN2282IPRO"
                    ],
                    [
                      "82I78RSF IPRO"
                    ],
                    [
                      "82I78RSF IPRO"
                    ],
                    [
                      "82I78RSF IPRO"
                    ],
                    [
                      "82I78RSF IPRO"
                    ],
                    [
                      "M 8644 IPRO"
                    ],
                    [
                      "M 8644 IPRO"
                    ],
                    [
                      "M 8644 IPRO"
                    ],
                    [
                      "M 8644 IPRO"
                    ],
                    [
                      "MONSOY M8606I2X"
                    ],
                    [
                      "MONSOY M8606I2X"
                    ],
                    [
                      "MONSOY M8606I2X"
                    ],
                    [
                      "MONSOY M8606I2X"
                    ],
                    [
                      "NK 8770 IPRO"
                    ],
                    [
                      "NK 8770 IPRO"
                    ],
                    [
                      "NK 8770 IPRO"
                    ],
                    [
                      "NK 8770 IPRO"
                    ],
                    [
                      "FTR 4288 IPRO"
                    ],
                    [
                      "FTR 4288 IPRO"
                    ],
                    [
                      "FTR 4288 IPRO"
                    ],
                    [
                      "FTR 4288 IPRO"
                    ],
                    [
                      "FTR 3190 IPRO"
                    ],
                    [
                      "FTR 3190 IPRO"
                    ],
                    [
                      "FTR 3190 IPRO"
                    ],
                    [
                      "FTR 3190 IPRO"
                    ],
                    [
                      "NEO 760 CE"
                    ],
                    [
                      "NEO 760 CE"
                    ],
                    [
                      "NEO 760 CE"
                    ],
                    [
                      "NEO 760 CE"
                    ],
                    [
                      "MANU IPRO"
                    ],
                    [
                      "MANU IPRO"
                    ],
                    [
                      "MANU IPRO"
                    ],
                    [
                      "MANU IPRO"
                    ],
                    [
                      "77HO111I2X - GUAPORÉ"
                    ],
                    [
                      "77HO111I2X - GUAPORÉ"
                    ],
                    [
                      "77HO111I2X - GUAPORÉ"
                    ],
                    [
                      "77HO111I2X - GUAPORÉ"
                    ],
                    [
                      "NK 7777 IPRO"
                    ],
                    [
                      "NK 7777 IPRO"
                    ],
                    [
                      "NK 7777 IPRO"
                    ],
                    [
                      "NK 7777 IPRO"
                    ],
                    [
                      "GNS7900 IPRO - AMPLA"
                    ],
                    [
                      "GNS7900 IPRO - AMPLA"
                    ],
                    [
                      "GNS7900 IPRO - AMPLA"
                    ],
                    [
                      "GNS7900 IPRO - AMPLA"
                    ],
                    [
                      "LTT 7901 IPRO"
                    ],
                    [
                      "LTT 7901 IPRO"
                    ],
                    [
                      "LTT 7901 IPRO"
                    ],
                    [
                      "LTT 7901 IPRO"
                    ],
                    [
                      "BRASMAX BÔNUS IPRO"
                    ],
                    [
                      "BRASMAX BÔNUS IPRO"
                    ],
                    [
                      "BRASMAX BÔNUS IPRO"
                    ],
                    [
                      "BRASMAX BÔNUS IPRO"
                    ],
                    [
                      "97Y97 IPRO"
                    ],
                    [
                      "97Y97 IPRO"
                    ],
                    [
                      "97Y97 IPRO"
                    ],
                    [
                      "97Y97 IPRO"
                    ],
                    [
                      "BRASMAX OLIMPO IPRO"
                    ],
                    [
                      "BRASMAX OLIMPO IPRO"
                    ],
                    [
                      "BRASMAX OLIMPO IPRO"
                    ],
                    [
                      "BRASMAX OLIMPO IPRO"
                    ],
                    [
                      "LYNDA IPRO"
                    ],
                    [
                      "LYNDA IPRO"
                    ],
                    [
                      "LYNDA IPRO"
                    ],
                    [
                      "LYNDA IPRO"
                    ],
                    [
                      "NK 8100 IPRO"
                    ],
                    [
                      "NK 8100 IPRO"
                    ],
                    [
                      "NK 8100 IPRO"
                    ],
                    [
                      "NK 8100 IPRO"
                    ],
                    [
                      "82HO111 IPRO - HO COXIM IPRO"
                    ],
                    [
                      "82HO111 IPRO - HO COXIM IPRO"
                    ],
                    [
                      "82HO111 IPRO - HO COXIM IPRO"
                    ],
                    [
                      "82HO111 IPRO - HO COXIM IPRO"
                    ],
                    [
                      "83IX84RSF I2X"
                    ],
                    [
                      "83IX84RSF I2X"
                    ],
                    [
                      "83IX84RSF I2X"
                    ],
                    [
                      "83IX84RSF I2X"
                    ],
                    [
                      "ADAPTA LTT 8402 IPRO"
                    ],
                    [
                      "ADAPTA LTT 8402 IPRO"
                    ],
                    [
                      "ADAPTA LTT 8402 IPRO"
                    ],
                    [
                      "ADAPTA LTT 8402 IPRO"
                    ],
                    [
                      "98R30 CE"
                    ],
                    [
                      "98R30 CE"
                    ],
                    [
                      "98R30 CE"
                    ],
                    [
                      "98R30 CE"
                    ],
                    [
                      "FORTALEZA IPRO"
                    ],
                    [
                      "FORTALEZA IPRO"
                    ],
                    [
                      "FORTALEZA IPRO"
                    ],
                    [
                      "FORTALEZA IPRO"
                    ],
                    [
                      "MONSOY 8330I2X"
                    ],
                    [
                      "MONSOY 8330I2X"
                    ],
                    [
                      "MONSOY 8330I2X"
                    ],
                    [
                      "MONSOY 8330I2X"
                    ],
                    [
                      "SUZY IPRO"
                    ],
                    [
                      "SUZY IPRO"
                    ],
                    [
                      "SUZY IPRO"
                    ],
                    [
                      "SUZY IPRO"
                    ],
                    [
                      "TMG 22X83I2X"
                    ],
                    [
                      "TMG 22X83I2X"
                    ],
                    [
                      "TMG 22X83I2X"
                    ],
                    [
                      "TMG 22X83I2X"
                    ],
                    [
                      "EXPANDE LTT 8301 IPRO"
                    ],
                    [
                      "EXPANDE LTT 8301 IPRO"
                    ],
                    [
                      "EXPANDE LTT 8301 IPRO"
                    ],
                    [
                      "EXPANDE LTT 8301 IPRO"
                    ],
                    [
                      "FORTALECE L090183 RR"
                    ],
                    [
                      "FORTALECE L090183 RR"
                    ],
                    [
                      "FORTALECE L090183 RR"
                    ],
                    [
                      "FORTALECE L090183 RR"
                    ],
                    [
                      "96R29 IPRO"
                    ],
                    [
                      "96R29 IPRO"
                    ],
                    [
                      "96R29 IPRO"
                    ],
                    [
                      "96R29 IPRO"
                    ],
                    [
                      "74K75RSF CE"
                    ],
                    [
                      "74K75RSF CE"
                    ],
                    [
                      "74K75RSF CE"
                    ],
                    [
                      "74K75RSF CE"
                    ],
                    [
                      "FTR 3868 IPRO"
                    ],
                    [
                      "FTR 3868 IPRO"
                    ],
                    [
                      "FTR 3868 IPRO"
                    ],
                    [
                      "FTR 3868 IPRO"
                    ],
                    [
                      "GNS7700 IPRO"
                    ],
                    [
                      "GNS7700 IPRO"
                    ],
                    [
                      "GNS7700 IPRO"
                    ],
                    [
                      "GNS7700 IPRO"
                    ],
                    [
                      "ELISA IPRO"
                    ],
                    [
                      "ELISA IPRO"
                    ],
                    [
                      "ELISA IPRO"
                    ],
                    [
                      "ELISA IPRO"
                    ],
                    [
                      "79I81RSF IPRO"
                    ],
                    [
                      "79I81RSF IPRO"
                    ],
                    [
                      "79I81RSF IPRO"
                    ],
                    [
                      "79I81RSF IPRO"
                    ],
                    [
                      "NEO 790 IPRO"
                    ],
                    [
                      "NEO 790 IPRO"
                    ],
                    [
                      "NEO 790 IPRO"
                    ],
                    [
                      "NEO 790 IPRO"
                    ],
                    [
                      "PAULA IPRO"
                    ],
                    [
                      "PAULA IPRO"
                    ],
                    [
                      "PAULA IPRO"
                    ],
                    [
                      "PAULA IPRO"
                    ],
                    [
                      "FTR 3179 IPRO"
                    ],
                    [
                      "FTR 3179 IPRO"
                    ],
                    [
                      "FTR 3179 IPRO"
                    ],
                    [
                      "FTR 3179 IPRO"
                    ],
                    [
                      "LAT 1330BT"
                    ],
                    [
                      "LAT 1330BT"
                    ],
                    [
                      "LAT 1330BT"
                    ],
                    [
                      "LAT 1330BT"
                    ],
                    [
                      "FTR 4280 IPRO"
                    ],
                    [
                      "FTR 4280 IPRO"
                    ],
                    [
                      "FTR 4280 IPRO"
                    ],
                    [
                      "FTR 4280 IPRO"
                    ],
                    [
                      "ATAQUE I2X"
                    ],
                    [
                      "ATAQUE I2X"
                    ],
                    [
                      "ATAQUE I2X"
                    ],
                    [
                      "ATAQUE I2X"
                    ],
                    [
                      "SYN2282IPRO"
                    ],
                    [
                      "SYN2282IPRO"
                    ],
                    [
                      "SYN2282IPRO"
                    ],
                    [
                      "SYN2282IPRO"
                    ],
                    [
                      "82I78RSF IPRO"
                    ],
                    [
                      "82I78RSF IPRO"
                    ],
                    [
                      "82I78RSF IPRO"
                    ],
                    [
                      "82I78RSF IPRO"
                    ],
                    [
                      "M 8644 IPRO"
                    ],
                    [
                      "M 8644 IPRO"
                    ],
                    [
                      "M 8644 IPRO"
                    ],
                    [
                      "M 8644 IPRO"
                    ],
                    [
                      "MONSOY M8606I2X"
                    ],
                    [
                      "MONSOY M8606I2X"
                    ],
                    [
                      "MONSOY M8606I2X"
                    ],
                    [
                      "MONSOY M8606I2X"
                    ],
                    [
                      "NK 8770 IPRO"
                    ],
                    [
                      "NK 8770 IPRO"
                    ],
                    [
                      "NK 8770 IPRO"
                    ],
                    [
                      "NK 8770 IPRO"
                    ],
                    [
                      "FTR 4288 IPRO"
                    ],
                    [
                      "FTR 4288 IPRO"
                    ],
                    [
                      "FTR 4288 IPRO"
                    ],
                    [
                      "FTR 4288 IPRO"
                    ],
                    [
                      "FTR 3190 IPRO"
                    ],
                    [
                      "FTR 3190 IPRO"
                    ],
                    [
                      "FTR 3190 IPRO"
                    ],
                    [
                      "FTR 3190 IPRO"
                    ]
                  ],
                  "hovertemplate": "NLP=%{x}<br>NS=%{y}<br>MHG=%{marker.size}<br>Cultivar=%{customdata[0]}<br>Season=%{marker.color}<extra></extra>",
                  "legendgroup": "",
                  "marker": {
                    "color": [
                      1,
                      1,
                      1,
                      1,
                      1,
                      1,
                      1,
                      1,
                      1,
                      1,
                      1,
                      1,
                      1,
                      1,
                      1,
                      1,
                      1,
                      1,
                      1,
                      1,
                      1,
                      1,
                      1,
                      1,
                      1,
                      1,
                      1,
                      1,
                      1,
                      1,
                      1,
                      1,
                      1,
                      1,
                      1,
                      1,
                      1,
                      1,
                      1,
                      1,
                      1,
                      1,
                      1,
                      1,
                      1,
                      1,
                      1,
                      1,
                      1,
                      1,
                      1,
                      1,
                      1,
                      1,
                      1,
                      1,
                      1,
                      1,
                      1,
                      1,
                      1,
                      1,
                      1,
                      1,
                      1,
                      1,
                      1,
                      1,
                      1,
                      1,
                      1,
                      1,
                      1,
                      1,
                      1,
                      1,
                      1,
                      1,
                      1,
                      1,
                      1,
                      1,
                      1,
                      1,
                      1,
                      1,
                      1,
                      1,
                      1,
                      1,
                      1,
                      1,
                      1,
                      1,
                      1,
                      1,
                      1,
                      1,
                      1,
                      1,
                      1,
                      1,
                      1,
                      1,
                      1,
                      1,
                      1,
                      1,
                      1,
                      1,
                      1,
                      1,
                      1,
                      1,
                      1,
                      1,
                      1,
                      1,
                      1,
                      1,
                      1,
                      1,
                      1,
                      1,
                      1,
                      1,
                      1,
                      1,
                      1,
                      1,
                      1,
                      1,
                      1,
                      1,
                      1,
                      1,
                      1,
                      1,
                      1,
                      1,
                      1,
                      1,
                      1,
                      1,
                      1,
                      1,
                      1,
                      1,
                      1,
                      1,
                      1,
                      1,
                      1,
                      1,
                      1,
                      1,
                      1,
                      1,
                      1,
                      1,
                      2,
                      2,
                      2,
                      2,
                      2,
                      2,
                      2,
                      2,
                      2,
                      2,
                      2,
                      2,
                      2,
                      2,
                      2,
                      2,
                      2,
                      2,
                      2,
                      2,
                      2,
                      2,
                      2,
                      2,
                      2,
                      2,
                      2,
                      2,
                      2,
                      2,
                      2,
                      2,
                      2,
                      2,
                      2,
                      2,
                      2,
                      2,
                      2,
                      2,
                      2,
                      2,
                      2,
                      2,
                      2,
                      2,
                      2,
                      2,
                      2,
                      2,
                      2,
                      2,
                      2,
                      2,
                      2,
                      2,
                      2,
                      2,
                      2,
                      2,
                      2,
                      2,
                      2,
                      2,
                      2,
                      2,
                      2,
                      2,
                      2,
                      2,
                      2,
                      2,
                      2,
                      2,
                      2,
                      2,
                      2,
                      2,
                      2,
                      2,
                      2,
                      2,
                      2,
                      2,
                      2,
                      2,
                      2,
                      2,
                      2,
                      2,
                      2,
                      2,
                      2,
                      2,
                      2,
                      2,
                      2,
                      2,
                      2,
                      2,
                      2,
                      2,
                      2,
                      2,
                      2,
                      2,
                      2,
                      2,
                      2,
                      2,
                      2,
                      2,
                      2,
                      2,
                      2,
                      2,
                      2,
                      2,
                      2,
                      2,
                      2,
                      2,
                      2,
                      2,
                      2,
                      2,
                      2,
                      2,
                      2,
                      2,
                      2,
                      2,
                      2,
                      2,
                      2,
                      2,
                      2,
                      2,
                      2,
                      2,
                      2,
                      2,
                      2,
                      2,
                      2,
                      2,
                      2,
                      2,
                      2,
                      2,
                      2,
                      2,
                      2,
                      2,
                      2,
                      2,
                      2,
                      2,
                      2,
                      2
                    ],
                    "coloraxis": "coloraxis",
                    "size": [
                      152.2,
                      141.69,
                      148.81,
                      148.5,
                      145.59,
                      154.87,
                      150.23,
                      149.9,
                      180.25,
                      176.75,
                      173.16,
                      176.73,
                      188.27,
                      184.01,
                      181.78,
                      184.69,
                      161.01,
                      162.93,
                      161.34,
                      163.11,
                      164.13,
                      163.56,
                      165.88,
                      165.68,
                      177.23,
                      178.3,
                      183.42,
                      183.52,
                      167.34,
                      168.24,
                      166.08,
                      172.62,
                      187.87,
                      187.38,
                      177.1,
                      180,
                      196.27,
                      180.87,
                      200.67,
                      201.77,
                      194.62,
                      196.67,
                      194.11,
                      193.43,
                      194.03,
                      185.96,
                      186.6,
                      193.8,
                      146.16,
                      148.48,
                      151.95,
                      145.72,
                      158.46,
                      149.77,
                      161.6,
                      172.2,
                      169.78,
                      160.08,
                      176.58,
                      173.59,
                      127.06,
                      131.94,
                      130.64,
                      134.95,
                      144.29,
                      147.81,
                      151.42,
                      153.51,
                      143.3,
                      149.02,
                      142.17,
                      141.64,
                      167.45,
                      178.33,
                      180.34,
                      177.98,
                      159.05,
                      166.83,
                      172.32,
                      178.41,
                      146.09,
                      155.29,
                      152.79,
                      149.71,
                      152.31,
                      155.66,
                      155.29,
                      159.66,
                      167.44,
                      158.3,
                      159.49,
                      158.3,
                      153.93,
                      157.7,
                      138.32,
                      138.68,
                      138.18,
                      135.7,
                      134.36,
                      139.74,
                      162.09,
                      157.75,
                      165.4,
                      173,
                      180.08,
                      175.76,
                      179.29,
                      184.67,
                      135.76,
                      147.81,
                      141.88,
                      152.68,
                      156.96,
                      158.45,
                      149.2,
                      148.87,
                      131.79,
                      135.47,
                      131.97,
                      129.05,
                      207.43,
                      202.79,
                      216,
                      195.2,
                      160.84,
                      155.94,
                      159.9,
                      157.55,
                      130.45,
                      141.36,
                      142.13,
                      140.28,
                      183.46,
                      171.56,
                      172.79,
                      181.22,
                      150.08,
                      148.17,
                      145.99,
                      145.5,
                      157.85,
                      151.24,
                      146.44,
                      148.86,
                      162.9,
                      161.98,
                      147.2,
                      155.75,
                      174.69,
                      174.37,
                      169.03,
                      179.82,
                      151.9,
                      152.01,
                      150.72,
                      153.59,
                      157.09,
                      157.14,
                      159.08,
                      155.24,
                      162.46,
                      169.6,
                      150.7,
                      161.52,
                      165.59,
                      169.38,
                      165.17,
                      162.17,
                      186.65,
                      186.05,
                      183.34,
                      180.22,
                      187.98,
                      196.12,
                      192.58,
                      187.95,
                      174,
                      185.41,
                      185.39,
                      183.4,
                      179.43,
                      174.39,
                      169.32,
                      171.97,
                      213.24,
                      206.95,
                      200.92,
                      209.8,
                      172.2,
                      173.8,
                      193.33,
                      176.2,
                      200.86,
                      194.93,
                      191.06,
                      191.75,
                      198.28,
                      204,
                      193.68,
                      201.86,
                      199.54,
                      196.21,
                      203.73,
                      199.71,
                      189.92,
                      197.06,
                      202.59,
                      201.31,
                      162.9,
                      170.42,
                      161.74,
                      164.87,
                      180.93,
                      179.21,
                      181.4,
                      173.3,
                      182,
                      184.42,
                      183.11,
                      175.96,
                      137.6,
                      127.76,
                      130.46,
                      132.81,
                      148.42,
                      158.09,
                      158.53,
                      158.78,
                      154.26,
                      149.29,
                      154.03,
                      155.77,
                      184.11,
                      184.17,
                      182.95,
                      183.13,
                      186.24,
                      182.05,
                      180.33,
                      189.46,
                      165.68,
                      157.15,
                      162.17,
                      158.04,
                      152.78,
                      164.61,
                      167.22,
                      157.2,
                      162.2,
                      168.01,
                      174.2,
                      176.96,
                      163.69,
                      164.92,
                      163.33,
                      157.72,
                      162.02,
                      162.85,
                      168.54,
                      171.37,
                      178,
                      175.4,
                      173.6,
                      177.4,
                      201.3,
                      196.72,
                      198.38,
                      193,
                      189.85,
                      192.48,
                      190,
                      193.04,
                      184.2,
                      185.66,
                      180.83,
                      185.47,
                      156.6,
                      143.24,
                      142.2,
                      145.3,
                      190.98,
                      200.04,
                      211.24,
                      208.97,
                      179.42,
                      180.25,
                      186.33,
                      177.21,
                      152.05,
                      155.08,
                      161.59,
                      166.22,
                      205.57,
                      194.94,
                      204.17,
                      204.89,
                      171.6,
                      172.59,
                      169.62,
                      162.59,
                      159.15,
                      164.86,
                      163.72,
                      157.93,
                      150.53,
                      150.82,
                      153.97,
                      154.1,
                      173.64,
                      175.92,
                      166.68,
                      160.81,
                      146.98,
                      139.22,
                      135.65,
                      135.19,
                      145.69,
                      147.24,
                      156.32,
                      157.61
                    ],
                    "sizemode": "area",
                    "sizeref": 0.54,
                    "symbol": "circle"
                  },
                  "mode": "markers",
                  "name": "",
                  "orientation": "v",
                  "showlegend": false,
                  "type": "scatter",
                  "x": [
                    98.2,
                    102,
                    100.4,
                    100.2,
                    98.8,
                    69.2,
                    95.4,
                    87.8,
                    64.8,
                    72,
                    78.2,
                    71.67,
                    82.2,
                    63.2,
                    80,
                    75.13,
                    49,
                    54.4,
                    50.2,
                    51.2,
                    61.4,
                    89,
                    72.4,
                    74.27,
                    73,
                    58.4,
                    62,
                    64.47,
                    49,
                    64.6,
                    63.8,
                    59.13,
                    44,
                    71.8,
                    87.6,
                    67.8,
                    44.4,
                    59,
                    55.4,
                    52.93,
                    80.6,
                    56.4,
                    73.4,
                    70.13,
                    78.8,
                    67.2,
                    81.8,
                    75.93,
                    103.8,
                    87.2,
                    102.4,
                    97.8,
                    55,
                    54.8,
                    60.6,
                    56.8,
                    58.6,
                    74.8,
                    58.6,
                    64,
                    89.8,
                    44,
                    91.2,
                    75,
                    54.6,
                    30,
                    64.8,
                    49.8,
                    116.4,
                    73,
                    93.4,
                    94.27,
                    39.8,
                    39.4,
                    33.2,
                    37.47,
                    32.4,
                    33.4,
                    37,
                    34.27,
                    31.2,
                    41.6,
                    67.8,
                    46.87,
                    55,
                    40.8,
                    20.2,
                    38.67,
                    56.8,
                    73.6,
                    56.6,
                    62.33,
                    47.6,
                    44.2,
                    61.6,
                    51.13,
                    46,
                    38.4,
                    47.2,
                    43.87,
                    46.8,
                    42.8,
                    48.2,
                    45.93,
                    64,
                    77.6,
                    51.6,
                    64.4,
                    33,
                    34.8,
                    32.4,
                    33.4,
                    48.8,
                    48.4,
                    39.4,
                    45.53,
                    75.6,
                    60,
                    81.6,
                    72.4,
                    46,
                    51.2,
                    32.6,
                    43.27,
                    50.6,
                    61.4,
                    48.2,
                    53.4,
                    42.2,
                    54.4,
                    36.8,
                    44.47,
                    43.6,
                    51.6,
                    35.2,
                    43.47,
                    28.8,
                    48.8,
                    49.2,
                    42.27,
                    33,
                    41,
                    65.4,
                    46.47,
                    63.6,
                    56.6,
                    48.4,
                    56.2,
                    53.6,
                    32,
                    48,
                    44.53,
                    52.2,
                    35,
                    44.6,
                    43.93,
                    33.4,
                    39,
                    35.6,
                    36,
                    39.4,
                    70,
                    50,
                    53.13,
                    39.4,
                    70,
                    50,
                    53.13,
                    24.8,
                    32.6,
                    26,
                    27.8,
                    46,
                    44,
                    46,
                    45.33,
                    50.2,
                    49.4,
                    60,
                    53.2,
                    56.6,
                    58.8,
                    44,
                    53.13,
                    42.8,
                    43.2,
                    42.6,
                    42.87,
                    49.8,
                    42.2,
                    43.4,
                    45.13,
                    38,
                    45,
                    38,
                    40.33,
                    48.6,
                    43.2,
                    47,
                    46.27,
                    84.2,
                    110,
                    100.4,
                    98.2,
                    123,
                    100,
                    114,
                    112.33,
                    49.8,
                    45,
                    42,
                    45.6,
                    55.6,
                    55.4,
                    48,
                    53,
                    103.2,
                    85.2,
                    80,
                    89.47,
                    42,
                    58,
                    57.4,
                    52.47,
                    56.8,
                    56.2,
                    72,
                    61.67,
                    58,
                    57.4,
                    50.6,
                    55.33,
                    75.2,
                    53,
                    82,
                    70.07,
                    58,
                    67.2,
                    58,
                    61.07,
                    37.6,
                    45.8,
                    50,
                    44.47,
                    46.6,
                    34.4,
                    57.4,
                    46.13,
                    50.4,
                    44,
                    66.4,
                    53.6,
                    36.6,
                    36,
                    43.2,
                    38.6,
                    61.8,
                    43.6,
                    47,
                    50.8,
                    53.2,
                    42.6,
                    36,
                    43.93,
                    62.8,
                    61.8,
                    61.4,
                    62,
                    75.6,
                    50.4,
                    87.2,
                    71.07,
                    87.6,
                    76,
                    69.6,
                    77.73,
                    53.2,
                    53,
                    48.4,
                    51.53,
                    37.6,
                    63,
                    34.4,
                    45,
                    55.2,
                    70,
                    47.2,
                    57.47,
                    81.4,
                    51.6,
                    77,
                    70,
                    79.4,
                    60,
                    70.4,
                    69.93,
                    106.4,
                    92.8,
                    79.6,
                    92.93,
                    32,
                    43.2,
                    34,
                    36.4,
                    81.4,
                    109.4,
                    102,
                    97.6,
                    97.6,
                    55,
                    60.2,
                    70.93,
                    84,
                    79.2,
                    64,
                    75.73,
                    76,
                    116.8,
                    86.4,
                    93.07
                  ],
                  "xaxis": "x",
                  "y": [
                    5.2,
                    7.2,
                    6.8,
                    6.4,
                    7.4,
                    7.2,
                    6.8,
                    7.13,
                    7.2,
                    6.2,
                    7.8,
                    7.07,
                    8.2,
                    9,
                    7,
                    8.07,
                    3.6,
                    4,
                    4.4,
                    4,
                    6,
                    7.4,
                    5.6,
                    6.33,
                    6.4,
                    6.6,
                    5,
                    6,
                    5.2,
                    5.4,
                    5,
                    5.2,
                    4.8,
                    5.6,
                    6.2,
                    5.53,
                    2.8,
                    3,
                    3,
                    2.93,
                    6.8,
                    5.4,
                    5.8,
                    6,
                    6.6,
                    6,
                    6.2,
                    6.27,
                    5.6,
                    6.6,
                    5.6,
                    5.93,
                    5.8,
                    5,
                    5.4,
                    5.4,
                    6.6,
                    6.6,
                    6.6,
                    6.6,
                    7,
                    5.2,
                    6.6,
                    6.27,
                    4.2,
                    5,
                    4.2,
                    4.47,
                    5.6,
                    5.6,
                    5.8,
                    5.67,
                    4,
                    3.8,
                    3.4,
                    3.73,
                    4.6,
                    4.4,
                    3.6,
                    4.2,
                    3.2,
                    3,
                    3.8,
                    3.33,
                    4.8,
                    3.8,
                    4.6,
                    4.4,
                    5.4,
                    5,
                    4.4,
                    4.93,
                    4.8,
                    4.6,
                    5.8,
                    5.07,
                    3.8,
                    4,
                    4,
                    3.93,
                    3.8,
                    4,
                    4.8,
                    4.2,
                    5,
                    5,
                    4.8,
                    4.93,
                    5.6,
                    5,
                    5.2,
                    5.27,
                    4.8,
                    3.6,
                    3.8,
                    4.07,
                    5,
                    4.8,
                    5,
                    4.93,
                    4.4,
                    3.4,
                    2.8,
                    3.53,
                    4,
                    5.2,
                    4.4,
                    4.53,
                    3.6,
                    3.8,
                    2.8,
                    3.4,
                    2.8,
                    3.6,
                    3.8,
                    3.4,
                    2.6,
                    4.2,
                    4.4,
                    3.73,
                    4,
                    2.8,
                    3.4,
                    3.4,
                    2.2,
                    2.6,
                    2.6,
                    2.47,
                    3.4,
                    3.2,
                    3.2,
                    3.27,
                    4.2,
                    3.8,
                    3.6,
                    3.87,
                    2.8,
                    2.8,
                    2.8,
                    2.8,
                    1.8,
                    3,
                    4,
                    2.93,
                    1.8,
                    3,
                    4,
                    2.93,
                    1.4,
                    1.6,
                    1.6,
                    1.53,
                    2.6,
                    2.2,
                    0.8,
                    1.87,
                    3,
                    1.6,
                    4.6,
                    3.07,
                    4.4,
                    3,
                    2.6,
                    3.33,
                    1.8,
                    2.4,
                    1.6,
                    1.93,
                    4,
                    2.8,
                    4.2,
                    3.67,
                    3.6,
                    3,
                    2.2,
                    2.93,
                    4,
                    3.6,
                    3.8,
                    3.8,
                    5.4,
                    9,
                    5.8,
                    6.73,
                    3.8,
                    5,
                    5,
                    4.6,
                    3.4,
                    3.6,
                    3.4,
                    3.47,
                    3.2,
                    2.4,
                    3.2,
                    2.93,
                    4,
                    3.4,
                    2.8,
                    3.4,
                    3.6,
                    4.2,
                    5.6,
                    4.47,
                    3.6,
                    4.2,
                    3.8,
                    3.87,
                    2.6,
                    4,
                    2.4,
                    3,
                    4,
                    3.2,
                    3.2,
                    3.47,
                    3.4,
                    3.4,
                    3.4,
                    3.4,
                    0.4,
                    2,
                    2.2,
                    1.53,
                    2.4,
                    3,
                    3.2,
                    2.87,
                    4.4,
                    2.8,
                    4,
                    3.73,
                    2.4,
                    1.8,
                    3,
                    2.4,
                    2.8,
                    2,
                    2.2,
                    2.33,
                    3.8,
                    3.4,
                    3,
                    3.4,
                    3,
                    2.2,
                    3.4,
                    2.87,
                    4.6,
                    4,
                    4.6,
                    4.4,
                    4,
                    4,
                    3,
                    3.67,
                    1.8,
                    2,
                    2,
                    1.93,
                    2,
                    2.4,
                    1.6,
                    2,
                    5.4,
                    3.8,
                    3.4,
                    4.2,
                    5.6,
                    3.6,
                    5.4,
                    4.87,
                    4,
                    3.8,
                    3.6,
                    3.8,
                    3.6,
                    5,
                    4.8,
                    4.47,
                    3.2,
                    3,
                    2.8,
                    3,
                    4.8,
                    4.4,
                    4,
                    4.4,
                    3.2,
                    2.2,
                    3.6,
                    3,
                    3.6,
                    3.8,
                    3.6,
                    3.67,
                    3.6,
                    3.8,
                    2.2,
                    3.2
                  ],
                  "yaxis": "y"
                },
                {
                  "hovertemplate": "<b>OLS trendline</b><br>NS = 0.0383474 * NLP + 1.80577<br>R<sup>2</sup>=0.272383<br><br>NLP=%{x}<br>NS=%{y} <b>(trend)</b><extra></extra>",
                  "legendgroup": "",
                  "marker": {
                    "symbol": "circle"
                  },
                  "mode": "lines",
                  "name": "",
                  "showlegend": false,
                  "type": "scatter",
                  "x": [
                    20.2,
                    24.8,
                    26,
                    27.8,
                    28.8,
                    30,
                    31.2,
                    32,
                    32,
                    32.4,
                    32.4,
                    32.6,
                    32.6,
                    33,
                    33,
                    33.2,
                    33.4,
                    33.4,
                    33.4,
                    34,
                    34.27,
                    34.4,
                    34.4,
                    34.8,
                    35,
                    35.2,
                    35.6,
                    36,
                    36,
                    36,
                    36.4,
                    36.6,
                    36.8,
                    37,
                    37.47,
                    37.6,
                    37.6,
                    38,
                    38,
                    38.4,
                    38.6,
                    38.67,
                    39,
                    39.4,
                    39.4,
                    39.4,
                    39.4,
                    39.8,
                    40.33,
                    40.8,
                    41,
                    41.6,
                    42,
                    42,
                    42.2,
                    42.2,
                    42.27,
                    42.6,
                    42.6,
                    42.8,
                    42.8,
                    42.87,
                    43.2,
                    43.2,
                    43.2,
                    43.2,
                    43.27,
                    43.4,
                    43.47,
                    43.6,
                    43.6,
                    43.87,
                    43.93,
                    43.93,
                    44,
                    44,
                    44,
                    44,
                    44,
                    44.2,
                    44.4,
                    44.47,
                    44.47,
                    44.53,
                    44.6,
                    45,
                    45,
                    45,
                    45.13,
                    45.33,
                    45.53,
                    45.6,
                    45.8,
                    45.93,
                    46,
                    46,
                    46,
                    46,
                    46.13,
                    46.27,
                    46.47,
                    46.6,
                    46.8,
                    46.87,
                    47,
                    47,
                    47.2,
                    47.2,
                    47.6,
                    48,
                    48,
                    48.2,
                    48.2,
                    48.4,
                    48.4,
                    48.4,
                    48.6,
                    48.8,
                    48.8,
                    49,
                    49,
                    49.2,
                    49.4,
                    49.8,
                    49.8,
                    49.8,
                    50,
                    50,
                    50,
                    50.2,
                    50.2,
                    50.4,
                    50.4,
                    50.6,
                    50.6,
                    50.8,
                    51.13,
                    51.2,
                    51.2,
                    51.53,
                    51.6,
                    51.6,
                    51.6,
                    52.2,
                    52.47,
                    52.93,
                    53,
                    53,
                    53,
                    53.13,
                    53.13,
                    53.13,
                    53.2,
                    53.2,
                    53.2,
                    53.4,
                    53.6,
                    53.6,
                    54.4,
                    54.4,
                    54.6,
                    54.8,
                    55,
                    55,
                    55,
                    55.2,
                    55.33,
                    55.4,
                    55.4,
                    55.6,
                    56.2,
                    56.2,
                    56.4,
                    56.6,
                    56.6,
                    56.6,
                    56.8,
                    56.8,
                    56.8,
                    57.4,
                    57.4,
                    57.4,
                    57.47,
                    58,
                    58,
                    58,
                    58,
                    58.4,
                    58.6,
                    58.6,
                    58.8,
                    59,
                    59.13,
                    60,
                    60,
                    60,
                    60.2,
                    60.6,
                    61.07,
                    61.4,
                    61.4,
                    61.4,
                    61.6,
                    61.67,
                    61.8,
                    61.8,
                    62,
                    62,
                    62.33,
                    62.8,
                    63,
                    63.2,
                    63.6,
                    63.8,
                    64,
                    64,
                    64,
                    64.4,
                    64.47,
                    64.6,
                    64.8,
                    64.8,
                    65.4,
                    66.4,
                    67.2,
                    67.2,
                    67.8,
                    67.8,
                    69.2,
                    69.6,
                    69.93,
                    70,
                    70,
                    70,
                    70,
                    70.07,
                    70.13,
                    70.4,
                    70.93,
                    71.07,
                    71.67,
                    71.8,
                    72,
                    72,
                    72.4,
                    72.4,
                    73,
                    73,
                    73.4,
                    73.6,
                    74.27,
                    74.8,
                    75,
                    75.13,
                    75.2,
                    75.6,
                    75.6,
                    75.73,
                    75.93,
                    76,
                    76,
                    77,
                    77.6,
                    77.73,
                    78.2,
                    78.8,
                    79.2,
                    79.4,
                    79.6,
                    80,
                    80,
                    80.6,
                    81.4,
                    81.4,
                    81.6,
                    81.8,
                    82,
                    82.2,
                    84,
                    84.2,
                    85.2,
                    86.4,
                    87.2,
                    87.2,
                    87.6,
                    87.6,
                    87.8,
                    89,
                    89.47,
                    89.8,
                    91.2,
                    92.8,
                    92.93,
                    93.07,
                    93.4,
                    94.27,
                    95.4,
                    97.6,
                    97.6,
                    97.8,
                    98.2,
                    98.2,
                    98.8,
                    100,
                    100.2,
                    100.4,
                    100.4,
                    102,
                    102,
                    102.4,
                    103.2,
                    103.8,
                    106.4,
                    109.4,
                    110,
                    112.33,
                    114,
                    116.4,
                    116.8,
                    123
                  ],
                  "xaxis": "x",
                  "y": [
                    2.5803912302331655,
                    2.756789192755387,
                    2.802806052543793,
                    2.8718313422264012,
                    2.910178725383406,
                    2.9561955851718116,
                    3.002212444960217,
                    3.032890351485821,
                    3.032890351485821,
                    3.048229304748623,
                    3.048229304748623,
                    3.055898781380024,
                    3.055898781380024,
                    3.0712377346428257,
                    3.0712377346428257,
                    3.0789072112742266,
                    3.0865766879056276,
                    3.0865766879056276,
                    3.0865766879056276,
                    3.1095851177998304,
                    3.1199389112522216,
                    3.1249240710626323,
                    3.1249240710626323,
                    3.140263024325434,
                    3.147932500956835,
                    3.155601977588236,
                    3.170940930851038,
                    3.1862798841138398,
                    3.1862798841138398,
                    3.1862798841138398,
                    3.2016188373766417,
                    3.2092883140080426,
                    3.2169577906394435,
                    3.2246272672708445,
                    3.2426505373546366,
                    3.2476356971650473,
                    3.2476356971650473,
                    3.262974650427849,
                    3.262974650427849,
                    3.278313603690651,
                    3.285983080322052,
                    3.2886673971430422,
                    3.301322033584854,
                    3.3166609868476558,
                    3.3166609868476558,
                    3.3166609868476558,
                    3.3166609868476558,
                    3.3319999401104576,
                    3.3523240531836698,
                    3.370347323267462,
                    3.3780167998988633,
                    3.401025229793066,
                    3.416364183055868,
                    3.416364183055868,
                    3.424033659687269,
                    3.424033659687269,
                    3.426717976508259,
                    3.439372612950071,
                    3.439372612950071,
                    3.4470420895814713,
                    3.4470420895814713,
                    3.449726406402462,
                    3.4623810428442736,
                    3.4623810428442736,
                    3.4623810428442736,
                    3.4623810428442736,
                    3.465065359665264,
                    3.4700505194756746,
                    3.472734836296665,
                    3.4777199961070755,
                    3.4777199961070755,
                    3.4880737895594667,
                    3.4903746325488867,
                    3.4903746325488867,
                    3.4930589493698774,
                    3.4930589493698774,
                    3.4930589493698774,
                    3.4930589493698774,
                    3.4930589493698774,
                    3.5007284260012783,
                    3.508397902632679,
                    3.5110822194536695,
                    3.5110822194536695,
                    3.51338306244309,
                    3.51606737926408,
                    3.531406332526882,
                    3.531406332526882,
                    3.531406332526882,
                    3.5363914923372928,
                    3.5440609689686933,
                    3.551730445600094,
                    3.554414762421085,
                    3.5620842390524854,
                    3.567069398862896,
                    3.5697537156838868,
                    3.5697537156838868,
                    3.5697537156838868,
                    3.5697537156838868,
                    3.5747388754942975,
                    3.580107509136278,
                    3.587776985767679,
                    3.5927621455780896,
                    3.60043162220949,
                    3.6031159390304808,
                    3.6081010988408915,
                    3.6081010988408915,
                    3.6157705754722924,
                    3.6157705754722924,
                    3.6311095287350943,
                    3.646448481997896,
                    3.646448481997896,
                    3.654117958629297,
                    3.654117958629297,
                    3.6617874352606976,
                    3.6617874352606976,
                    3.6617874352606976,
                    3.669456911892099,
                    3.6771263885234995,
                    3.6771263885234995,
                    3.6847958651549004,
                    3.6847958651549004,
                    3.692465341786302,
                    3.7001348184177023,
                    3.715473771680504,
                    3.715473771680504,
                    3.715473771680504,
                    3.723143248311905,
                    3.723143248311905,
                    3.723143248311905,
                    3.7308127249433065,
                    3.7308127249433065,
                    3.738482201574707,
                    3.738482201574707,
                    3.7461516782061084,
                    3.7461516782061084,
                    3.753821154837509,
                    3.7664757912793205,
                    3.769160108100311,
                    3.769160108100311,
                    3.7818147445421224,
                    3.784499061363113,
                    3.784499061363113,
                    3.784499061363113,
                    3.807507491257316,
                    3.8178612847097066,
                    3.835501080961929,
                    3.8381853977829192,
                    3.8381853977829192,
                    3.8381853977829192,
                    3.84317055759333,
                    3.84317055759333,
                    3.84317055759333,
                    3.8458548744143206,
                    3.8458548744143206,
                    3.8458548744143206,
                    3.853524351045721,
                    3.861193827677122,
                    3.861193827677122,
                    3.891871734202726,
                    3.891871734202726,
                    3.8995412108341267,
                    3.9072106874655277,
                    3.9148801640969286,
                    3.9148801640969286,
                    3.9148801640969286,
                    3.92254964072833,
                    3.9275348005387403,
                    3.9302191173597305,
                    3.9302191173597305,
                    3.9378885939911314,
                    3.9608970238853343,
                    3.9608970238853343,
                    3.968566500516735,
                    3.976235977148136,
                    3.976235977148136,
                    3.976235977148136,
                    3.983905453779537,
                    3.983905453779537,
                    3.983905453779537,
                    4.00691388367374,
                    4.00691388367374,
                    4.00691388367374,
                    4.009598200494731,
                    4.029922313567943,
                    4.029922313567943,
                    4.029922313567943,
                    4.029922313567943,
                    4.045261266830745,
                    4.052930743462146,
                    4.052930743462146,
                    4.060600220093546,
                    4.068269696724948,
                    4.073254856535359,
                    4.106617079881953,
                    4.106617079881953,
                    4.106617079881953,
                    4.1142865565133535,
                    4.129625509776155,
                    4.1476487798599475,
                    4.160303416301758,
                    4.160303416301758,
                    4.160303416301758,
                    4.16797289293316,
                    4.17065720975415,
                    4.17564236956456,
                    4.17564236956456,
                    4.183311846195962,
                    4.183311846195962,
                    4.195966482637773,
                    4.213989752721565,
                    4.221659229352967,
                    4.229328705984368,
                    4.2446676592471695,
                    4.2523371358785695,
                    4.2600066125099705,
                    4.2600066125099705,
                    4.2600066125099705,
                    4.275345565772773,
                    4.2780298825937635,
                    4.283015042404173,
                    4.290684519035574,
                    4.290684519035574,
                    4.313692948929778,
                    4.352040332086783,
                    4.382718238612386,
                    4.382718238612386,
                    4.405726668506588,
                    4.405726668506588,
                    4.459413004926396,
                    4.474751958189197,
                    4.487406594631009,
                    4.490090911451999,
                    4.490090911451999,
                    4.490090911451999,
                    4.490090911451999,
                    4.492775228272989,
                    4.495076071262409,
                    4.5054298647148014,
                    4.525753977788014,
                    4.531122611429994,
                    4.554131041324197,
                    4.559116201134607,
                    4.566785677766008,
                    4.566785677766008,
                    4.582124631028811,
                    4.582124631028811,
                    4.605133060923013,
                    4.605133060923013,
                    4.6204720141858155,
                    4.628141490817216,
                    4.653834237532409,
                    4.674158350605621,
                    4.681827827237022,
                    4.686812987047433,
                    4.689497303868423,
                    4.704836257131225,
                    4.704836257131225,
                    4.709821416941636,
                    4.7174908935730375,
                    4.720175210394027,
                    4.720175210394027,
                    4.758522593551032,
                    4.781531023445234,
                    4.786516183255645,
                    4.804539453339437,
                    4.82754788323364,
                    4.842886836496442,
                    4.850556313127844,
                    4.858225789759244,
                    4.873564743022046,
                    4.873564743022046,
                    4.8965731729162485,
                    4.927251079441852,
                    4.927251079441852,
                    4.934920556073253,
                    4.942590032704654,
                    4.950259509336055,
                    4.957928985967456,
                    5.0269542756500645,
                    5.034623752281465,
                    5.07297113543847,
                    5.118987995226876,
                    5.1496659017524795,
                    5.1496659017524795,
                    5.165004855015281,
                    5.165004855015281,
                    5.172674331646682,
                    5.218691191435088,
                    5.23671446151888,
                    5.249369097960692,
                    5.303055434380498,
                    5.364411247431706,
                    5.3693964072421165,
                    5.374765040884097,
                    5.387419677325909,
                    5.420781900672503,
                    5.464114443639918,
                    5.548478686585328,
                    5.548478686585328,
                    5.556148163216729,
                    5.571487116479531,
                    5.571487116479531,
                    5.594495546373734,
                    5.64051240616214,
                    5.648181882793541,
                    5.6558513594249415,
                    5.6558513594249415,
                    5.717207172476149,
                    5.717207172476149,
                    5.732546125738951,
                    5.763224032264555,
                    5.7862324621587575,
                    5.88593565836697,
                    6.000977807837984,
                    6.023986237732187,
                    6.113335640488008,
                    6.1773757703602055,
                    6.269409489937017,
                    6.284748443199819,
                    6.522502218773248
                  ],
                  "yaxis": "y"
                }
              ],
              "layout": {
                "coloraxis": {
                  "colorbar": {
                    "title": {
                      "text": "Season"
                    }
                  },
                  "colorscale": [
                    [
                      0,
                      "#0d0887"
                    ],
                    [
                      0.1111111111111111,
                      "#46039f"
                    ],
                    [
                      0.2222222222222222,
                      "#7201a8"
                    ],
                    [
                      0.3333333333333333,
                      "#9c179e"
                    ],
                    [
                      0.4444444444444444,
                      "#bd3786"
                    ],
                    [
                      0.5555555555555556,
                      "#d8576b"
                    ],
                    [
                      0.6666666666666666,
                      "#ed7953"
                    ],
                    [
                      0.7777777777777778,
                      "#fb9f3a"
                    ],
                    [
                      0.8888888888888888,
                      "#fdca26"
                    ],
                    [
                      1,
                      "#f0f921"
                    ]
                  ]
                },
                "legend": {
                  "itemsizing": "constant",
                  "tracegroupgap": 0
                },
                "margin": {
                  "t": 60
                },
                "template": {
                  "data": {
                    "bar": [
                      {
                        "error_x": {
                          "color": "#2a3f5f"
                        },
                        "error_y": {
                          "color": "#2a3f5f"
                        },
                        "marker": {
                          "line": {
                            "color": "#E5ECF6",
                            "width": 0.5
                          },
                          "pattern": {
                            "fillmode": "overlay",
                            "size": 10,
                            "solidity": 0.2
                          }
                        },
                        "type": "bar"
                      }
                    ],
                    "barpolar": [
                      {
                        "marker": {
                          "line": {
                            "color": "#E5ECF6",
                            "width": 0.5
                          },
                          "pattern": {
                            "fillmode": "overlay",
                            "size": 10,
                            "solidity": 0.2
                          }
                        },
                        "type": "barpolar"
                      }
                    ],
                    "carpet": [
                      {
                        "aaxis": {
                          "endlinecolor": "#2a3f5f",
                          "gridcolor": "white",
                          "linecolor": "white",
                          "minorgridcolor": "white",
                          "startlinecolor": "#2a3f5f"
                        },
                        "baxis": {
                          "endlinecolor": "#2a3f5f",
                          "gridcolor": "white",
                          "linecolor": "white",
                          "minorgridcolor": "white",
                          "startlinecolor": "#2a3f5f"
                        },
                        "type": "carpet"
                      }
                    ],
                    "choropleth": [
                      {
                        "colorbar": {
                          "outlinewidth": 0,
                          "ticks": ""
                        },
                        "type": "choropleth"
                      }
                    ],
                    "contour": [
                      {
                        "colorbar": {
                          "outlinewidth": 0,
                          "ticks": ""
                        },
                        "colorscale": [
                          [
                            0,
                            "#0d0887"
                          ],
                          [
                            0.1111111111111111,
                            "#46039f"
                          ],
                          [
                            0.2222222222222222,
                            "#7201a8"
                          ],
                          [
                            0.3333333333333333,
                            "#9c179e"
                          ],
                          [
                            0.4444444444444444,
                            "#bd3786"
                          ],
                          [
                            0.5555555555555556,
                            "#d8576b"
                          ],
                          [
                            0.6666666666666666,
                            "#ed7953"
                          ],
                          [
                            0.7777777777777778,
                            "#fb9f3a"
                          ],
                          [
                            0.8888888888888888,
                            "#fdca26"
                          ],
                          [
                            1,
                            "#f0f921"
                          ]
                        ],
                        "type": "contour"
                      }
                    ],
                    "contourcarpet": [
                      {
                        "colorbar": {
                          "outlinewidth": 0,
                          "ticks": ""
                        },
                        "type": "contourcarpet"
                      }
                    ],
                    "heatmap": [
                      {
                        "colorbar": {
                          "outlinewidth": 0,
                          "ticks": ""
                        },
                        "colorscale": [
                          [
                            0,
                            "#0d0887"
                          ],
                          [
                            0.1111111111111111,
                            "#46039f"
                          ],
                          [
                            0.2222222222222222,
                            "#7201a8"
                          ],
                          [
                            0.3333333333333333,
                            "#9c179e"
                          ],
                          [
                            0.4444444444444444,
                            "#bd3786"
                          ],
                          [
                            0.5555555555555556,
                            "#d8576b"
                          ],
                          [
                            0.6666666666666666,
                            "#ed7953"
                          ],
                          [
                            0.7777777777777778,
                            "#fb9f3a"
                          ],
                          [
                            0.8888888888888888,
                            "#fdca26"
                          ],
                          [
                            1,
                            "#f0f921"
                          ]
                        ],
                        "type": "heatmap"
                      }
                    ],
                    "heatmapgl": [
                      {
                        "colorbar": {
                          "outlinewidth": 0,
                          "ticks": ""
                        },
                        "colorscale": [
                          [
                            0,
                            "#0d0887"
                          ],
                          [
                            0.1111111111111111,
                            "#46039f"
                          ],
                          [
                            0.2222222222222222,
                            "#7201a8"
                          ],
                          [
                            0.3333333333333333,
                            "#9c179e"
                          ],
                          [
                            0.4444444444444444,
                            "#bd3786"
                          ],
                          [
                            0.5555555555555556,
                            "#d8576b"
                          ],
                          [
                            0.6666666666666666,
                            "#ed7953"
                          ],
                          [
                            0.7777777777777778,
                            "#fb9f3a"
                          ],
                          [
                            0.8888888888888888,
                            "#fdca26"
                          ],
                          [
                            1,
                            "#f0f921"
                          ]
                        ],
                        "type": "heatmapgl"
                      }
                    ],
                    "histogram": [
                      {
                        "marker": {
                          "pattern": {
                            "fillmode": "overlay",
                            "size": 10,
                            "solidity": 0.2
                          }
                        },
                        "type": "histogram"
                      }
                    ],
                    "histogram2d": [
                      {
                        "colorbar": {
                          "outlinewidth": 0,
                          "ticks": ""
                        },
                        "colorscale": [
                          [
                            0,
                            "#0d0887"
                          ],
                          [
                            0.1111111111111111,
                            "#46039f"
                          ],
                          [
                            0.2222222222222222,
                            "#7201a8"
                          ],
                          [
                            0.3333333333333333,
                            "#9c179e"
                          ],
                          [
                            0.4444444444444444,
                            "#bd3786"
                          ],
                          [
                            0.5555555555555556,
                            "#d8576b"
                          ],
                          [
                            0.6666666666666666,
                            "#ed7953"
                          ],
                          [
                            0.7777777777777778,
                            "#fb9f3a"
                          ],
                          [
                            0.8888888888888888,
                            "#fdca26"
                          ],
                          [
                            1,
                            "#f0f921"
                          ]
                        ],
                        "type": "histogram2d"
                      }
                    ],
                    "histogram2dcontour": [
                      {
                        "colorbar": {
                          "outlinewidth": 0,
                          "ticks": ""
                        },
                        "colorscale": [
                          [
                            0,
                            "#0d0887"
                          ],
                          [
                            0.1111111111111111,
                            "#46039f"
                          ],
                          [
                            0.2222222222222222,
                            "#7201a8"
                          ],
                          [
                            0.3333333333333333,
                            "#9c179e"
                          ],
                          [
                            0.4444444444444444,
                            "#bd3786"
                          ],
                          [
                            0.5555555555555556,
                            "#d8576b"
                          ],
                          [
                            0.6666666666666666,
                            "#ed7953"
                          ],
                          [
                            0.7777777777777778,
                            "#fb9f3a"
                          ],
                          [
                            0.8888888888888888,
                            "#fdca26"
                          ],
                          [
                            1,
                            "#f0f921"
                          ]
                        ],
                        "type": "histogram2dcontour"
                      }
                    ],
                    "mesh3d": [
                      {
                        "colorbar": {
                          "outlinewidth": 0,
                          "ticks": ""
                        },
                        "type": "mesh3d"
                      }
                    ],
                    "parcoords": [
                      {
                        "line": {
                          "colorbar": {
                            "outlinewidth": 0,
                            "ticks": ""
                          }
                        },
                        "type": "parcoords"
                      }
                    ],
                    "pie": [
                      {
                        "automargin": true,
                        "type": "pie"
                      }
                    ],
                    "scatter": [
                      {
                        "fillpattern": {
                          "fillmode": "overlay",
                          "size": 10,
                          "solidity": 0.2
                        },
                        "type": "scatter"
                      }
                    ],
                    "scatter3d": [
                      {
                        "line": {
                          "colorbar": {
                            "outlinewidth": 0,
                            "ticks": ""
                          }
                        },
                        "marker": {
                          "colorbar": {
                            "outlinewidth": 0,
                            "ticks": ""
                          }
                        },
                        "type": "scatter3d"
                      }
                    ],
                    "scattercarpet": [
                      {
                        "marker": {
                          "colorbar": {
                            "outlinewidth": 0,
                            "ticks": ""
                          }
                        },
                        "type": "scattercarpet"
                      }
                    ],
                    "scattergeo": [
                      {
                        "marker": {
                          "colorbar": {
                            "outlinewidth": 0,
                            "ticks": ""
                          }
                        },
                        "type": "scattergeo"
                      }
                    ],
                    "scattergl": [
                      {
                        "marker": {
                          "colorbar": {
                            "outlinewidth": 0,
                            "ticks": ""
                          }
                        },
                        "type": "scattergl"
                      }
                    ],
                    "scattermapbox": [
                      {
                        "marker": {
                          "colorbar": {
                            "outlinewidth": 0,
                            "ticks": ""
                          }
                        },
                        "type": "scattermapbox"
                      }
                    ],
                    "scatterpolar": [
                      {
                        "marker": {
                          "colorbar": {
                            "outlinewidth": 0,
                            "ticks": ""
                          }
                        },
                        "type": "scatterpolar"
                      }
                    ],
                    "scatterpolargl": [
                      {
                        "marker": {
                          "colorbar": {
                            "outlinewidth": 0,
                            "ticks": ""
                          }
                        },
                        "type": "scatterpolargl"
                      }
                    ],
                    "scatterternary": [
                      {
                        "marker": {
                          "colorbar": {
                            "outlinewidth": 0,
                            "ticks": ""
                          }
                        },
                        "type": "scatterternary"
                      }
                    ],
                    "surface": [
                      {
                        "colorbar": {
                          "outlinewidth": 0,
                          "ticks": ""
                        },
                        "colorscale": [
                          [
                            0,
                            "#0d0887"
                          ],
                          [
                            0.1111111111111111,
                            "#46039f"
                          ],
                          [
                            0.2222222222222222,
                            "#7201a8"
                          ],
                          [
                            0.3333333333333333,
                            "#9c179e"
                          ],
                          [
                            0.4444444444444444,
                            "#bd3786"
                          ],
                          [
                            0.5555555555555556,
                            "#d8576b"
                          ],
                          [
                            0.6666666666666666,
                            "#ed7953"
                          ],
                          [
                            0.7777777777777778,
                            "#fb9f3a"
                          ],
                          [
                            0.8888888888888888,
                            "#fdca26"
                          ],
                          [
                            1,
                            "#f0f921"
                          ]
                        ],
                        "type": "surface"
                      }
                    ],
                    "table": [
                      {
                        "cells": {
                          "fill": {
                            "color": "#EBF0F8"
                          },
                          "line": {
                            "color": "white"
                          }
                        },
                        "header": {
                          "fill": {
                            "color": "#C8D4E3"
                          },
                          "line": {
                            "color": "white"
                          }
                        },
                        "type": "table"
                      }
                    ]
                  },
                  "layout": {
                    "annotationdefaults": {
                      "arrowcolor": "#2a3f5f",
                      "arrowhead": 0,
                      "arrowwidth": 1
                    },
                    "autotypenumbers": "strict",
                    "coloraxis": {
                      "colorbar": {
                        "outlinewidth": 0,
                        "ticks": ""
                      }
                    },
                    "colorscale": {
                      "diverging": [
                        [
                          0,
                          "#8e0152"
                        ],
                        [
                          0.1,
                          "#c51b7d"
                        ],
                        [
                          0.2,
                          "#de77ae"
                        ],
                        [
                          0.3,
                          "#f1b6da"
                        ],
                        [
                          0.4,
                          "#fde0ef"
                        ],
                        [
                          0.5,
                          "#f7f7f7"
                        ],
                        [
                          0.6,
                          "#e6f5d0"
                        ],
                        [
                          0.7,
                          "#b8e186"
                        ],
                        [
                          0.8,
                          "#7fbc41"
                        ],
                        [
                          0.9,
                          "#4d9221"
                        ],
                        [
                          1,
                          "#276419"
                        ]
                      ],
                      "sequential": [
                        [
                          0,
                          "#0d0887"
                        ],
                        [
                          0.1111111111111111,
                          "#46039f"
                        ],
                        [
                          0.2222222222222222,
                          "#7201a8"
                        ],
                        [
                          0.3333333333333333,
                          "#9c179e"
                        ],
                        [
                          0.4444444444444444,
                          "#bd3786"
                        ],
                        [
                          0.5555555555555556,
                          "#d8576b"
                        ],
                        [
                          0.6666666666666666,
                          "#ed7953"
                        ],
                        [
                          0.7777777777777778,
                          "#fb9f3a"
                        ],
                        [
                          0.8888888888888888,
                          "#fdca26"
                        ],
                        [
                          1,
                          "#f0f921"
                        ]
                      ],
                      "sequentialminus": [
                        [
                          0,
                          "#0d0887"
                        ],
                        [
                          0.1111111111111111,
                          "#46039f"
                        ],
                        [
                          0.2222222222222222,
                          "#7201a8"
                        ],
                        [
                          0.3333333333333333,
                          "#9c179e"
                        ],
                        [
                          0.4444444444444444,
                          "#bd3786"
                        ],
                        [
                          0.5555555555555556,
                          "#d8576b"
                        ],
                        [
                          0.6666666666666666,
                          "#ed7953"
                        ],
                        [
                          0.7777777777777778,
                          "#fb9f3a"
                        ],
                        [
                          0.8888888888888888,
                          "#fdca26"
                        ],
                        [
                          1,
                          "#f0f921"
                        ]
                      ]
                    },
                    "colorway": [
                      "#636efa",
                      "#EF553B",
                      "#00cc96",
                      "#ab63fa",
                      "#FFA15A",
                      "#19d3f3",
                      "#FF6692",
                      "#B6E880",
                      "#FF97FF",
                      "#FECB52"
                    ],
                    "font": {
                      "color": "#2a3f5f"
                    },
                    "geo": {
                      "bgcolor": "white",
                      "lakecolor": "white",
                      "landcolor": "#E5ECF6",
                      "showlakes": true,
                      "showland": true,
                      "subunitcolor": "white"
                    },
                    "hoverlabel": {
                      "align": "left"
                    },
                    "hovermode": "closest",
                    "mapbox": {
                      "style": "light"
                    },
                    "paper_bgcolor": "white",
                    "plot_bgcolor": "#E5ECF6",
                    "polar": {
                      "angularaxis": {
                        "gridcolor": "white",
                        "linecolor": "white",
                        "ticks": ""
                      },
                      "bgcolor": "#E5ECF6",
                      "radialaxis": {
                        "gridcolor": "white",
                        "linecolor": "white",
                        "ticks": ""
                      }
                    },
                    "scene": {
                      "xaxis": {
                        "backgroundcolor": "#E5ECF6",
                        "gridcolor": "white",
                        "gridwidth": 2,
                        "linecolor": "white",
                        "showbackground": true,
                        "ticks": "",
                        "zerolinecolor": "white"
                      },
                      "yaxis": {
                        "backgroundcolor": "#E5ECF6",
                        "gridcolor": "white",
                        "gridwidth": 2,
                        "linecolor": "white",
                        "showbackground": true,
                        "ticks": "",
                        "zerolinecolor": "white"
                      },
                      "zaxis": {
                        "backgroundcolor": "#E5ECF6",
                        "gridcolor": "white",
                        "gridwidth": 2,
                        "linecolor": "white",
                        "showbackground": true,
                        "ticks": "",
                        "zerolinecolor": "white"
                      }
                    },
                    "shapedefaults": {
                      "line": {
                        "color": "#2a3f5f"
                      }
                    },
                    "ternary": {
                      "aaxis": {
                        "gridcolor": "white",
                        "linecolor": "white",
                        "ticks": ""
                      },
                      "baxis": {
                        "gridcolor": "white",
                        "linecolor": "white",
                        "ticks": ""
                      },
                      "bgcolor": "#E5ECF6",
                      "caxis": {
                        "gridcolor": "white",
                        "linecolor": "white",
                        "ticks": ""
                      }
                    },
                    "title": {
                      "x": 0.05
                    },
                    "xaxis": {
                      "automargin": true,
                      "gridcolor": "white",
                      "linecolor": "white",
                      "ticks": "",
                      "title": {
                        "standoff": 15
                      },
                      "zerolinecolor": "white",
                      "zerolinewidth": 2
                    },
                    "yaxis": {
                      "automargin": true,
                      "gridcolor": "white",
                      "linecolor": "white",
                      "ticks": "",
                      "title": {
                        "standoff": 15
                      },
                      "zerolinecolor": "white",
                      "zerolinewidth": 2
                    }
                  }
                },
                "xaxis": {
                  "anchor": "y",
                  "domain": [
                    0,
                    1
                  ],
                  "title": {
                    "text": "NLP"
                  }
                },
                "yaxis": {
                  "anchor": "x",
                  "domain": [
                    0,
                    1
                  ],
                  "title": {
                    "text": "NS"
                  }
                }
              }
            }
          },
          "metadata": {},
          "output_type": "display_data"
        }
      ],
      "source": [
        "fig = px.scatter(data, x=\"NLP\", y=\"NS\", color=\"Season\",size='MHG', hover_data=\"Cultivar\",trendline=\"ols\", color_discrete_sequence=px.colors.qualitative.D3)\n",
        "fig.show()"
      ]
    },
    {
      "cell_type": "code",
      "execution_count": 12,
      "metadata": {},
      "outputs": [],
      "source": [
        "X = pd.DataFrame(data, columns=['NLP','NS'])\n",
        "y = pd.Series(data['Season'], name='Season')\n",
        "\n",
        "X_train, X_test, y_train, y_test = train_test_split(X, y, test_size=0.2, random_state=42)"
      ]
    },
    {
      "cell_type": "code",
      "execution_count": 13,
      "metadata": {},
      "outputs": [],
      "source": [
        "# Train Classification Models\n",
        "models = {\n",
        "    'Logistic Regression': LogisticRegression(max_iter=5000),\n",
        "    'Decision Tree': DecisionTreeClassifier(),\n",
        "    'Random Forest': RandomForestClassifier()\n",
        "}\n",
        "\n",
        "for name, model in models.items():\n",
        "    model.fit(X_train, y_train)"
      ]
    },
    {
      "cell_type": "code",
      "execution_count": 14,
      "metadata": {},
      "outputs": [
        {
          "name": "stdout",
          "output_type": "stream",
          "text": [
            "\n",
            "Model Performance:\n",
            "Logistic Regression:\n",
            "              precision    recall  f1-score   support\n",
            "\n",
            "           1       0.78      0.88      0.82        32\n",
            "           2       0.86      0.75      0.80        32\n",
            "\n",
            "    accuracy                           0.81        64\n",
            "   macro avg       0.82      0.81      0.81        64\n",
            "weighted avg       0.82      0.81      0.81        64\n",
            "\n",
            "Decision Tree:\n",
            "              precision    recall  f1-score   support\n",
            "\n",
            "           1       0.68      0.84      0.75        32\n",
            "           2       0.79      0.59      0.68        32\n",
            "\n",
            "    accuracy                           0.72        64\n",
            "   macro avg       0.73      0.72      0.71        64\n",
            "weighted avg       0.73      0.72      0.71        64\n",
            "\n",
            "Random Forest:\n",
            "              precision    recall  f1-score   support\n",
            "\n",
            "           1       0.74      0.81      0.78        32\n",
            "           2       0.79      0.72      0.75        32\n",
            "\n",
            "    accuracy                           0.77        64\n",
            "   macro avg       0.77      0.77      0.77        64\n",
            "weighted avg       0.77      0.77      0.77        64\n",
            "\n"
          ]
        }
      ],
      "source": [
        "# Evaluate Model Performance\n",
        "print(\"\\nModel Performance:\")\n",
        "for name, model in models.items():\n",
        "    y_pred = model.predict(X_test)\n",
        "    accuracy = accuracy_score(y_test, y_pred)\n",
        "    print(f\"{name}:\")\n",
        "    print(classification_report(y_test, y_pred))"
      ]
    },
    {
      "cell_type": "code",
      "execution_count": 15,
      "metadata": {},
      "outputs": [
        {
          "data": {
            "application/vnd.plotly.v1+json": {
              "config": {
                "plotlyServerURL": "https://plot.ly"
              },
              "data": [
                {
                  "alignmentgroup": "True",
                  "hovertemplate": "Model=%{x}<br>Accuracy=%{y}<extra></extra>",
                  "legendgroup": "",
                  "marker": {
                    "color": "#636efa",
                    "pattern": {
                      "shape": ""
                    }
                  },
                  "name": "",
                  "offsetgroup": "",
                  "orientation": "v",
                  "showlegend": false,
                  "textposition": "auto",
                  "type": "bar",
                  "x": [
                    "Logistic Regression",
                    "Decision Tree",
                    "Random Forest"
                  ],
                  "xaxis": "x",
                  "y": [
                    0.8125,
                    0.71875,
                    0.765625
                  ],
                  "yaxis": "y"
                }
              ],
              "layout": {
                "barmode": "relative",
                "legend": {
                  "tracegroupgap": 0
                },
                "template": {
                  "data": {
                    "bar": [
                      {
                        "error_x": {
                          "color": "#2a3f5f"
                        },
                        "error_y": {
                          "color": "#2a3f5f"
                        },
                        "marker": {
                          "line": {
                            "color": "#E5ECF6",
                            "width": 0.5
                          },
                          "pattern": {
                            "fillmode": "overlay",
                            "size": 10,
                            "solidity": 0.2
                          }
                        },
                        "type": "bar"
                      }
                    ],
                    "barpolar": [
                      {
                        "marker": {
                          "line": {
                            "color": "#E5ECF6",
                            "width": 0.5
                          },
                          "pattern": {
                            "fillmode": "overlay",
                            "size": 10,
                            "solidity": 0.2
                          }
                        },
                        "type": "barpolar"
                      }
                    ],
                    "carpet": [
                      {
                        "aaxis": {
                          "endlinecolor": "#2a3f5f",
                          "gridcolor": "white",
                          "linecolor": "white",
                          "minorgridcolor": "white",
                          "startlinecolor": "#2a3f5f"
                        },
                        "baxis": {
                          "endlinecolor": "#2a3f5f",
                          "gridcolor": "white",
                          "linecolor": "white",
                          "minorgridcolor": "white",
                          "startlinecolor": "#2a3f5f"
                        },
                        "type": "carpet"
                      }
                    ],
                    "choropleth": [
                      {
                        "colorbar": {
                          "outlinewidth": 0,
                          "ticks": ""
                        },
                        "type": "choropleth"
                      }
                    ],
                    "contour": [
                      {
                        "colorbar": {
                          "outlinewidth": 0,
                          "ticks": ""
                        },
                        "colorscale": [
                          [
                            0,
                            "#0d0887"
                          ],
                          [
                            0.1111111111111111,
                            "#46039f"
                          ],
                          [
                            0.2222222222222222,
                            "#7201a8"
                          ],
                          [
                            0.3333333333333333,
                            "#9c179e"
                          ],
                          [
                            0.4444444444444444,
                            "#bd3786"
                          ],
                          [
                            0.5555555555555556,
                            "#d8576b"
                          ],
                          [
                            0.6666666666666666,
                            "#ed7953"
                          ],
                          [
                            0.7777777777777778,
                            "#fb9f3a"
                          ],
                          [
                            0.8888888888888888,
                            "#fdca26"
                          ],
                          [
                            1,
                            "#f0f921"
                          ]
                        ],
                        "type": "contour"
                      }
                    ],
                    "contourcarpet": [
                      {
                        "colorbar": {
                          "outlinewidth": 0,
                          "ticks": ""
                        },
                        "type": "contourcarpet"
                      }
                    ],
                    "heatmap": [
                      {
                        "colorbar": {
                          "outlinewidth": 0,
                          "ticks": ""
                        },
                        "colorscale": [
                          [
                            0,
                            "#0d0887"
                          ],
                          [
                            0.1111111111111111,
                            "#46039f"
                          ],
                          [
                            0.2222222222222222,
                            "#7201a8"
                          ],
                          [
                            0.3333333333333333,
                            "#9c179e"
                          ],
                          [
                            0.4444444444444444,
                            "#bd3786"
                          ],
                          [
                            0.5555555555555556,
                            "#d8576b"
                          ],
                          [
                            0.6666666666666666,
                            "#ed7953"
                          ],
                          [
                            0.7777777777777778,
                            "#fb9f3a"
                          ],
                          [
                            0.8888888888888888,
                            "#fdca26"
                          ],
                          [
                            1,
                            "#f0f921"
                          ]
                        ],
                        "type": "heatmap"
                      }
                    ],
                    "heatmapgl": [
                      {
                        "colorbar": {
                          "outlinewidth": 0,
                          "ticks": ""
                        },
                        "colorscale": [
                          [
                            0,
                            "#0d0887"
                          ],
                          [
                            0.1111111111111111,
                            "#46039f"
                          ],
                          [
                            0.2222222222222222,
                            "#7201a8"
                          ],
                          [
                            0.3333333333333333,
                            "#9c179e"
                          ],
                          [
                            0.4444444444444444,
                            "#bd3786"
                          ],
                          [
                            0.5555555555555556,
                            "#d8576b"
                          ],
                          [
                            0.6666666666666666,
                            "#ed7953"
                          ],
                          [
                            0.7777777777777778,
                            "#fb9f3a"
                          ],
                          [
                            0.8888888888888888,
                            "#fdca26"
                          ],
                          [
                            1,
                            "#f0f921"
                          ]
                        ],
                        "type": "heatmapgl"
                      }
                    ],
                    "histogram": [
                      {
                        "marker": {
                          "pattern": {
                            "fillmode": "overlay",
                            "size": 10,
                            "solidity": 0.2
                          }
                        },
                        "type": "histogram"
                      }
                    ],
                    "histogram2d": [
                      {
                        "colorbar": {
                          "outlinewidth": 0,
                          "ticks": ""
                        },
                        "colorscale": [
                          [
                            0,
                            "#0d0887"
                          ],
                          [
                            0.1111111111111111,
                            "#46039f"
                          ],
                          [
                            0.2222222222222222,
                            "#7201a8"
                          ],
                          [
                            0.3333333333333333,
                            "#9c179e"
                          ],
                          [
                            0.4444444444444444,
                            "#bd3786"
                          ],
                          [
                            0.5555555555555556,
                            "#d8576b"
                          ],
                          [
                            0.6666666666666666,
                            "#ed7953"
                          ],
                          [
                            0.7777777777777778,
                            "#fb9f3a"
                          ],
                          [
                            0.8888888888888888,
                            "#fdca26"
                          ],
                          [
                            1,
                            "#f0f921"
                          ]
                        ],
                        "type": "histogram2d"
                      }
                    ],
                    "histogram2dcontour": [
                      {
                        "colorbar": {
                          "outlinewidth": 0,
                          "ticks": ""
                        },
                        "colorscale": [
                          [
                            0,
                            "#0d0887"
                          ],
                          [
                            0.1111111111111111,
                            "#46039f"
                          ],
                          [
                            0.2222222222222222,
                            "#7201a8"
                          ],
                          [
                            0.3333333333333333,
                            "#9c179e"
                          ],
                          [
                            0.4444444444444444,
                            "#bd3786"
                          ],
                          [
                            0.5555555555555556,
                            "#d8576b"
                          ],
                          [
                            0.6666666666666666,
                            "#ed7953"
                          ],
                          [
                            0.7777777777777778,
                            "#fb9f3a"
                          ],
                          [
                            0.8888888888888888,
                            "#fdca26"
                          ],
                          [
                            1,
                            "#f0f921"
                          ]
                        ],
                        "type": "histogram2dcontour"
                      }
                    ],
                    "mesh3d": [
                      {
                        "colorbar": {
                          "outlinewidth": 0,
                          "ticks": ""
                        },
                        "type": "mesh3d"
                      }
                    ],
                    "parcoords": [
                      {
                        "line": {
                          "colorbar": {
                            "outlinewidth": 0,
                            "ticks": ""
                          }
                        },
                        "type": "parcoords"
                      }
                    ],
                    "pie": [
                      {
                        "automargin": true,
                        "type": "pie"
                      }
                    ],
                    "scatter": [
                      {
                        "fillpattern": {
                          "fillmode": "overlay",
                          "size": 10,
                          "solidity": 0.2
                        },
                        "type": "scatter"
                      }
                    ],
                    "scatter3d": [
                      {
                        "line": {
                          "colorbar": {
                            "outlinewidth": 0,
                            "ticks": ""
                          }
                        },
                        "marker": {
                          "colorbar": {
                            "outlinewidth": 0,
                            "ticks": ""
                          }
                        },
                        "type": "scatter3d"
                      }
                    ],
                    "scattercarpet": [
                      {
                        "marker": {
                          "colorbar": {
                            "outlinewidth": 0,
                            "ticks": ""
                          }
                        },
                        "type": "scattercarpet"
                      }
                    ],
                    "scattergeo": [
                      {
                        "marker": {
                          "colorbar": {
                            "outlinewidth": 0,
                            "ticks": ""
                          }
                        },
                        "type": "scattergeo"
                      }
                    ],
                    "scattergl": [
                      {
                        "marker": {
                          "colorbar": {
                            "outlinewidth": 0,
                            "ticks": ""
                          }
                        },
                        "type": "scattergl"
                      }
                    ],
                    "scattermapbox": [
                      {
                        "marker": {
                          "colorbar": {
                            "outlinewidth": 0,
                            "ticks": ""
                          }
                        },
                        "type": "scattermapbox"
                      }
                    ],
                    "scatterpolar": [
                      {
                        "marker": {
                          "colorbar": {
                            "outlinewidth": 0,
                            "ticks": ""
                          }
                        },
                        "type": "scatterpolar"
                      }
                    ],
                    "scatterpolargl": [
                      {
                        "marker": {
                          "colorbar": {
                            "outlinewidth": 0,
                            "ticks": ""
                          }
                        },
                        "type": "scatterpolargl"
                      }
                    ],
                    "scatterternary": [
                      {
                        "marker": {
                          "colorbar": {
                            "outlinewidth": 0,
                            "ticks": ""
                          }
                        },
                        "type": "scatterternary"
                      }
                    ],
                    "surface": [
                      {
                        "colorbar": {
                          "outlinewidth": 0,
                          "ticks": ""
                        },
                        "colorscale": [
                          [
                            0,
                            "#0d0887"
                          ],
                          [
                            0.1111111111111111,
                            "#46039f"
                          ],
                          [
                            0.2222222222222222,
                            "#7201a8"
                          ],
                          [
                            0.3333333333333333,
                            "#9c179e"
                          ],
                          [
                            0.4444444444444444,
                            "#bd3786"
                          ],
                          [
                            0.5555555555555556,
                            "#d8576b"
                          ],
                          [
                            0.6666666666666666,
                            "#ed7953"
                          ],
                          [
                            0.7777777777777778,
                            "#fb9f3a"
                          ],
                          [
                            0.8888888888888888,
                            "#fdca26"
                          ],
                          [
                            1,
                            "#f0f921"
                          ]
                        ],
                        "type": "surface"
                      }
                    ],
                    "table": [
                      {
                        "cells": {
                          "fill": {
                            "color": "#EBF0F8"
                          },
                          "line": {
                            "color": "white"
                          }
                        },
                        "header": {
                          "fill": {
                            "color": "#C8D4E3"
                          },
                          "line": {
                            "color": "white"
                          }
                        },
                        "type": "table"
                      }
                    ]
                  },
                  "layout": {
                    "annotationdefaults": {
                      "arrowcolor": "#2a3f5f",
                      "arrowhead": 0,
                      "arrowwidth": 1
                    },
                    "autotypenumbers": "strict",
                    "coloraxis": {
                      "colorbar": {
                        "outlinewidth": 0,
                        "ticks": ""
                      }
                    },
                    "colorscale": {
                      "diverging": [
                        [
                          0,
                          "#8e0152"
                        ],
                        [
                          0.1,
                          "#c51b7d"
                        ],
                        [
                          0.2,
                          "#de77ae"
                        ],
                        [
                          0.3,
                          "#f1b6da"
                        ],
                        [
                          0.4,
                          "#fde0ef"
                        ],
                        [
                          0.5,
                          "#f7f7f7"
                        ],
                        [
                          0.6,
                          "#e6f5d0"
                        ],
                        [
                          0.7,
                          "#b8e186"
                        ],
                        [
                          0.8,
                          "#7fbc41"
                        ],
                        [
                          0.9,
                          "#4d9221"
                        ],
                        [
                          1,
                          "#276419"
                        ]
                      ],
                      "sequential": [
                        [
                          0,
                          "#0d0887"
                        ],
                        [
                          0.1111111111111111,
                          "#46039f"
                        ],
                        [
                          0.2222222222222222,
                          "#7201a8"
                        ],
                        [
                          0.3333333333333333,
                          "#9c179e"
                        ],
                        [
                          0.4444444444444444,
                          "#bd3786"
                        ],
                        [
                          0.5555555555555556,
                          "#d8576b"
                        ],
                        [
                          0.6666666666666666,
                          "#ed7953"
                        ],
                        [
                          0.7777777777777778,
                          "#fb9f3a"
                        ],
                        [
                          0.8888888888888888,
                          "#fdca26"
                        ],
                        [
                          1,
                          "#f0f921"
                        ]
                      ],
                      "sequentialminus": [
                        [
                          0,
                          "#0d0887"
                        ],
                        [
                          0.1111111111111111,
                          "#46039f"
                        ],
                        [
                          0.2222222222222222,
                          "#7201a8"
                        ],
                        [
                          0.3333333333333333,
                          "#9c179e"
                        ],
                        [
                          0.4444444444444444,
                          "#bd3786"
                        ],
                        [
                          0.5555555555555556,
                          "#d8576b"
                        ],
                        [
                          0.6666666666666666,
                          "#ed7953"
                        ],
                        [
                          0.7777777777777778,
                          "#fb9f3a"
                        ],
                        [
                          0.8888888888888888,
                          "#fdca26"
                        ],
                        [
                          1,
                          "#f0f921"
                        ]
                      ]
                    },
                    "colorway": [
                      "#636efa",
                      "#EF553B",
                      "#00cc96",
                      "#ab63fa",
                      "#FFA15A",
                      "#19d3f3",
                      "#FF6692",
                      "#B6E880",
                      "#FF97FF",
                      "#FECB52"
                    ],
                    "font": {
                      "color": "#2a3f5f"
                    },
                    "geo": {
                      "bgcolor": "white",
                      "lakecolor": "white",
                      "landcolor": "#E5ECF6",
                      "showlakes": true,
                      "showland": true,
                      "subunitcolor": "white"
                    },
                    "hoverlabel": {
                      "align": "left"
                    },
                    "hovermode": "closest",
                    "mapbox": {
                      "style": "light"
                    },
                    "paper_bgcolor": "white",
                    "plot_bgcolor": "#E5ECF6",
                    "polar": {
                      "angularaxis": {
                        "gridcolor": "white",
                        "linecolor": "white",
                        "ticks": ""
                      },
                      "bgcolor": "#E5ECF6",
                      "radialaxis": {
                        "gridcolor": "white",
                        "linecolor": "white",
                        "ticks": ""
                      }
                    },
                    "scene": {
                      "xaxis": {
                        "backgroundcolor": "#E5ECF6",
                        "gridcolor": "white",
                        "gridwidth": 2,
                        "linecolor": "white",
                        "showbackground": true,
                        "ticks": "",
                        "zerolinecolor": "white"
                      },
                      "yaxis": {
                        "backgroundcolor": "#E5ECF6",
                        "gridcolor": "white",
                        "gridwidth": 2,
                        "linecolor": "white",
                        "showbackground": true,
                        "ticks": "",
                        "zerolinecolor": "white"
                      },
                      "zaxis": {
                        "backgroundcolor": "#E5ECF6",
                        "gridcolor": "white",
                        "gridwidth": 2,
                        "linecolor": "white",
                        "showbackground": true,
                        "ticks": "",
                        "zerolinecolor": "white"
                      }
                    },
                    "shapedefaults": {
                      "line": {
                        "color": "#2a3f5f"
                      }
                    },
                    "ternary": {
                      "aaxis": {
                        "gridcolor": "white",
                        "linecolor": "white",
                        "ticks": ""
                      },
                      "baxis": {
                        "gridcolor": "white",
                        "linecolor": "white",
                        "ticks": ""
                      },
                      "bgcolor": "#E5ECF6",
                      "caxis": {
                        "gridcolor": "white",
                        "linecolor": "white",
                        "ticks": ""
                      }
                    },
                    "title": {
                      "x": 0.05
                    },
                    "xaxis": {
                      "automargin": true,
                      "gridcolor": "white",
                      "linecolor": "white",
                      "ticks": "",
                      "title": {
                        "standoff": 15
                      },
                      "zerolinecolor": "white",
                      "zerolinewidth": 2
                    },
                    "yaxis": {
                      "automargin": true,
                      "gridcolor": "white",
                      "linecolor": "white",
                      "ticks": "",
                      "title": {
                        "standoff": 15
                      },
                      "zerolinecolor": "white",
                      "zerolinewidth": 2
                    }
                  }
                },
                "title": {
                  "text": "Model Comparison"
                },
                "xaxis": {
                  "anchor": "y",
                  "domain": [
                    0,
                    1
                  ],
                  "title": {
                    "text": "Model"
                  }
                },
                "yaxis": {
                  "anchor": "x",
                  "domain": [
                    0,
                    1
                  ],
                  "title": {
                    "text": "Accuracy"
                  }
                }
              }
            }
          },
          "metadata": {},
          "output_type": "display_data"
        }
      ],
      "source": [
        "# Visualize Model Comparison\n",
        "model_names = list(models.keys())\n",
        "accuracies = [accuracy_score(y_test, model.predict(X_test)) for model in models.values()]\n",
        "accuracy_df = pd.DataFrame({'Model': model_names, 'Accuracy': accuracies})\n",
        "\n",
        "fig = px.bar(accuracy_df, x='Model', y='Accuracy', title='Model Comparison')\n",
        "fig.show()"
      ]
    }
  ],
  "metadata": {
    "colab": {
      "provenance": []
    },
    "kernelspec": {
      "display_name": "Python 3",
      "name": "python3"
    },
    "language_info": {
      "codemirror_mode": {
        "name": "ipython",
        "version": 3
      },
      "file_extension": ".py",
      "mimetype": "text/x-python",
      "name": "python",
      "nbconvert_exporter": "python",
      "pygments_lexer": "ipython3",
      "version": "3.9.6"
    }
  },
  "nbformat": 4,
  "nbformat_minor": 0
}
